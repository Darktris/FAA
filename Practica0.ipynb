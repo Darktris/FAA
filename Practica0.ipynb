{
 "cells": [
  {
   "cell_type": "code",
   "execution_count": 30,
   "metadata": {},
   "outputs": [
    {
     "name": "stdout",
     "output_type": "stream",
     "text": [
      "The autoreload extension is already loaded. To reload it, use:\n",
      "  %reload_ext autoreload\n",
      "[[2 2 2 2 1 1 2 1 1 1]\n",
      " [2 2 2 2 1 1 1 2 1 1]\n",
      " [2 2 2 2 1 1 1 1 2 1]\n",
      " [2 2 2 2 1 1 1 0 0 1]\n",
      " [2 2 2 2 1 1 0 1 0 1]\n",
      " [2 2 2 2 1 1 0 0 1 1]\n",
      " [2 2 2 2 1 0 1 1 0 1]\n",
      " [2 2 2 2 1 0 1 0 1 1]\n",
      " [2 2 2 2 1 0 0 1 1 1]\n",
      " [2 2 2 2 0 1 1 1 0 1]\n",
      " [2 2 2 2 0 1 1 0 1 1]\n",
      " [2 2 2 2 0 1 0 1 1 1]\n",
      " [2 2 2 1 2 1 2 1 1 1]\n",
      " [2 2 2 1 2 1 1 2 1 1]\n",
      " [2 2 2 1 2 1 1 1 2 1]\n",
      " [2 2 2 1 2 1 1 0 0 1]\n",
      " [2 2 2 1 2 1 0 1 0 1]\n",
      " [2 2 2 1 2 1 0 0 1 1]\n",
      " [2 2 2 1 2 0 1 1 0 1]\n",
      " [2 2 2 1 2 0 1 0 1 1]]\n",
      "[[    0     6     4     4  1169     4     4     4     2     0     4     0\n",
      "     67     2     1     2     2     1     1     0     0]\n",
      " [    1    48     2     4  5951     0     2     2     1     0     2     0\n",
      "     22     2     1     1     2     1     0     0     1]\n",
      " [    3    12     4     7  2096     0     3     2     2     0     3     0\n",
      "     49     2     1     1     1     2     0     0     0]\n",
      " [    0    42     2     3  7882     0     3     2     2     2     4     1\n",
      "     45     2     2     1     2     2     0     0     0]\n",
      " [    0    24     3     0  4870     0     2     3     2     0     4     3\n",
      "     53     2     2     2     2     2     0     0     1]\n",
      " [    3    36     2     7  9055     4     2     2     2     0     4     3\n",
      "     35     2     2     1     1     2     1     0     0]\n",
      " [    3    24     2     3  2835     2     4     3     2     0     4     1\n",
      "     53     2     1     1     2     1     0     0     0]\n",
      " [    1    36     2     1  6948     0     2     2     2     0     2     2\n",
      "     35     2     0     1     3     1     1     0     0]\n",
      " [    3    12     2     4  3059     4     3     2     0     0     4     0\n",
      "     61     2     1     1     1     1     0     0     0]\n",
      " [    1    30     4     0  5234     0     0     4     3     0     2     2\n",
      "     28     2     1     2     3     1     0     0     1]\n",
      " [    1    12     2     0  1295     0     1     3     1     0     1     2\n",
      "     25     2     0     1     2     1     0     0     1]\n",
      " [    0    48     2     9  4308     0     1     3     1     0     4     1\n",
      "     24     2     0     1     2     1     0     0     1]\n",
      " [    1    12     2     4  1567     0     2     1     1     0     1     2\n",
      "     22     2     1     1     2     1     1     0     0]\n",
      " [    0    24     4     0  1199     0     4     4     2     0     4     2\n",
      "     60     2     1     2     1     1     0     0     1]\n",
      " [    0    15     2     0  1403     0     2     2     1     0     4     2\n",
      "     28     2     0     1     2     1     0     0     0]\n",
      " [    0    24     2     4  1282     1     2     4     1     0     2     2\n",
      "     32     2     1     1     1     1     0     0     1]\n",
      " [    3    24     4     4  2424     4     4     4     2     0     4     1\n",
      "     53     2     1     2     2     1     0     0     0]\n",
      " [    0    30     0     9  8072     4     1     2     2     0     3     2\n",
      "     25     0     1     3     2     1     0     0     0]\n",
      " [    1    24     2     1 12579     0     4     4     1     0     2     3\n",
      "     44     2     2     1     3     1     1     0     1]\n",
      " [    3    24     2     4  3430     2     4     3     2     0     2     2\n",
      "     31     2     1     1     2     2     1     0     0]]\n"
     ]
    }
   ],
   "source": [
    "%load_ext autoreload\n",
    "%autoreload 2\n",
    "from faa import Datos\n",
    "\n",
    "dataset=Datos('./ConjuntosDatos/tic-tac-toe.data')\n",
    "dataset2=Datos('./ConjuntosDatos/german.data')\n",
    "print(dataset.datos[0:20,:])\n",
    "print(dataset2.datos[0:20,:])"
   ]
  },
  {
   "cell_type": "code",
   "execution_count": 26,
   "metadata": {},
   "outputs": [
    {
     "data": {
      "text/plain": [
       "[{'b': 0, 'o': 1, 'x': 2},\n",
       " {'b': 0, 'o': 1, 'x': 2},\n",
       " {'b': 0, 'o': 1, 'x': 2},\n",
       " {'b': 0, 'o': 1, 'x': 2},\n",
       " {'b': 0, 'o': 1, 'x': 2},\n",
       " {'b': 0, 'o': 1, 'x': 2},\n",
       " {'b': 0, 'o': 1, 'x': 2},\n",
       " {'b': 0, 'o': 1, 'x': 2},\n",
       " {'b': 0, 'o': 1, 'x': 2},\n",
       " {'negative': 0, 'positive': 1}]"
      ]
     },
     "execution_count": 26,
     "metadata": {},
     "output_type": "execute_result"
    }
   ],
   "source": [
    "dataset.diccionarios"
   ]
  }
 ],
 "metadata": {
  "kernelspec": {
   "display_name": "Python 3",
   "language": "python",
   "name": "python3"
  },
  "language_info": {
   "codemirror_mode": {
    "name": "ipython",
    "version": 3
   },
   "file_extension": ".py",
   "mimetype": "text/x-python",
   "name": "python",
   "nbconvert_exporter": "python",
   "pygments_lexer": "ipython3",
   "version": "3.6.1"
  }
 },
 "nbformat": 4,
 "nbformat_minor": 2
}
