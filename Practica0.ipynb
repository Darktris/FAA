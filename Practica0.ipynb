{
 "cells": [
  {
   "cell_type": "code",
   "execution_count": null,
   "metadata": {},
   "outputs": [],
   "source": [
    "%load_ext autoreload\n",
    "%autoreload 2\n",
    "\n",
    "from Datos import Datos\n",
    "from EstrategiasParticionado.ValidacionCruzada import ValidacionCruzada\n",
    "from EstrategiasParticionado.ValidacionSimple import ValidacionSimple\n",
    "\n",
    "dataset=Datos('./ConjuntosDatos/tic-tac-toe.data')\n",
    "dataset2=Datos('./ConjuntosDatos/german.data')"
   ]
  },
  {
   "cell_type": "code",
   "execution_count": null,
   "metadata": {},
   "outputs": [],
   "source": [
    "validacionSimple = ValidacionSimple()\n",
    "validacionSimple.creaParticiones(dataset.datos)\n",
    "for particion in validacionSimple.particiones:\n",
    "    print(particion.indicesTrain)\n",
    "    print(particion.indicesTest)"
   ]
  },
  {
   "cell_type": "code",
   "execution_count": 26,
   "metadata": {},
   "outputs": [
    {
     "name": "stdout",
     "output_type": "stream",
     "text": [
      "[[119 642 838 856  61 304 433 597 155 501 238 451 880 655 491 328 699 621\n",
      "  709 206 892 518 515 898  37 440 818 423 874 115 810 106 573 617 568 671\n",
      "   15 646 799 210 241 178 917 679  25 335   2 758 318 725 303 265 264 478\n",
      "  666 831 188 324 759 138 331 396 174 479 132 786 359 618 779 833 612 538\n",
      "  510 232 936  85 487 700 947 871 665 738 606 879 767 537 548 714  90 117\n",
      "  536 414 355 428 882]\n",
      " [192 837  99 644 249 255 341 185 116 711 459 356 934 399 703 475 173 951\n",
      "  277 559 547   0 391 785 736 867  10 269 554 168 145 342 445 339 429 610\n",
      "   59 361 462 949 441 395 751 845  44 915 649 918 574 668 104 569 259 354\n",
      "  279 156 860 902 524 914  18  88  48 400 101 790 654 563 866  62 180  67\n",
      "  158 503 780 670 629 858 686 236 772 897 292 812 201 474 114 519 120  66\n",
      "  194 868 623 950 737]\n",
      " [494 616 291 766 825 122 161 889 133 905 251 517 167 378 894  78 446 165\n",
      "  716 300 761 552  63 215 956 316 544 296  34 869 176 449 702 443 427  41\n",
      "  110  80  49 696 172  27 164 781 888 307 794 717 731 884 765 183 196  75\n",
      "  638 551 718 308 404 365 577 406 542 280 528  68 549 543 795 455 465   7\n",
      "   47 383 546 442 229  38 627 453 448 921 397 468 103 586 719 135 387 632\n",
      "  692 669 175 268 218]\n",
      " [689 182 231 531 861 130 746  70 652 739 593 240 592 645 708 401 672 367\n",
      "  578 384 653 681 588  19 450  14 497 386 205 247 942 350 904  30  86 372\n",
      "   97 647 931 293 285 368 584 941 444 347 570 633 641  89 121 813 371 186\n",
      "  663 801 375 704 311 829 388 619 928 228 935 362 160 408 834  42 820 436\n",
      "   58 640 848 214 312 131 893 352 327 505 208 410 471 600 102 910 198 937\n",
      "  282 909 865 435 598]\n",
      " [743 564 913 248 258 691 720 585 678 382 750 849 664  17 313 276 467 125\n",
      "  353 146 843 945 425 687  79 878 262 343 605 349 724 741 594 565 181 477\n",
      "   51 575 143 839 953  55 558 599 420 253  31 614 283 635  71 129 454 701\n",
      "  202 109  11 113 329 939 748 847  60 123 630 768 527 852 200 226 234 793\n",
      "  557   3 482 529  39 470 955  57 310 601 840 643 489 895 298 256 545 659\n",
      "  613 740 473  64 885]\n",
      " [112 152 535 590 796 338 426 452 204 561 906  65 221 151 500 242 908  16\n",
      "  286 398 760 930 370 170 278 244 522 212 695 179 698 363 305 159  21 373\n",
      "  634 924 439 290 405 916 457 360  29 828 832 697 476 243  35 189 763 348\n",
      "   43 926 389 764  72 556 712 806 886 393 952 550 587 694 326 148 330 658\n",
      "  261 334 134 822 685 486 611 802 306 411 195 789 481 887 409 753 147 756\n",
      "  412 209 294 830 583]\n",
      " [252 379 922  84  96 853 325 332  26 807 124 827 791 624 488 608   1 857\n",
      "  854 899  12 320 461 358 271 742 126 403 900 566 227 814  52 661 722 345\n",
      "  267   4 604 864 946 107 336 798 782 118 815 580 667 498 851 923 805  32\n",
      "  875 628 775 933 693 656 275 506 464 492 502  22 309 836 521 650 639  69\n",
      "  217 684 891 674 560 637 184 472 676 723 572 150 162 562 413 235 263  92\n",
      "   54 421 295 111 532]\n",
      " [940 380 207 734 823 846 187 266 938 595 507 571 369 677 287 530 237 337\n",
      "  873 770 456 821 437   9 811 943 726 511 314 533 555 514 466 657 773  77\n",
      "  769 927 141 762 128 804 706  81  45  91 755 727 850  33  36 870 432 863\n",
      "  903 381 344 896 876 525  46 872 808 589 272 735 911 784  50 553  82 881\n",
      "  582  94 317 274 193 127 513 757 817 322 390 777 776 257 203  87 351 707\n",
      "   83 333 626 392 485]\n",
      " [ 23  56 415 402 108 516   6 603 648 394 484 197 136 460 754 787  53 220\n",
      "  944 809 260  93 682 890 675 948 567 730 245 458 721 912 430 199 620 729\n",
      "  835 250 690 509 297 733 792 270 957  74 713 385 596 224   5 631 688  95\n",
      "  417 673 163 142 602 803 520 424 508 842 504 540  28 366 289 153 615 223\n",
      "  301 246 376  20 749 407  98 841 771 346   8 225 715  40 166 920 284 680\n",
      "  469 319 302 340 211]\n",
      " [323 844 149 177 422 219 824 728 816 859 747 579 140 526 919 855 315 710\n",
      "  483 438 171 157 752 622 954 591 321 541 788 907 499 493 783 281 512 539\n",
      "  364 636 732 447 607 929 233 419  76 490 523 800  13 862 901 418 744 299\n",
      "  463 660 495 137 105 216 932 705 190 431 169 222 662 778 288 213 683 877\n",
      "  609 480 819 191 357 576 625 100 496 273 416 534 774  73 230 139 925 374\n",
      "  745 883 377 581  24]]\n"
     ]
    },
    {
     "ename": "IndexError",
     "evalue": "index 7 is out of bounds for axis 0 with size 7",
     "output_type": "error",
     "traceback": [
      "\u001b[0;31m---------------------------------------------------------------------------\u001b[0m",
      "\u001b[0;31mIndexError\u001b[0m                                Traceback (most recent call last)",
      "\u001b[0;32m<ipython-input-26-db3b88d38e8c>\u001b[0m in \u001b[0;36m<module>\u001b[0;34m()\u001b[0m\n\u001b[1;32m      1\u001b[0m \u001b[0mvalidacionCruzada\u001b[0m \u001b[0;34m=\u001b[0m \u001b[0mValidacionCruzada\u001b[0m\u001b[0;34m(\u001b[0m\u001b[0;34m)\u001b[0m\u001b[0;34m\u001b[0m\u001b[0m\n\u001b[1;32m      2\u001b[0m \u001b[0;34m\u001b[0m\u001b[0m\n\u001b[0;32m----> 3\u001b[0;31m \u001b[0mvalidacionCruzada\u001b[0m\u001b[0;34m.\u001b[0m\u001b[0mcreaParticiones\u001b[0m\u001b[0;34m(\u001b[0m\u001b[0mdataset\u001b[0m\u001b[0;34m.\u001b[0m\u001b[0mdatos\u001b[0m\u001b[0;34m)\u001b[0m\u001b[0;34m\u001b[0m\u001b[0m\n\u001b[0m\u001b[1;32m      4\u001b[0m \u001b[0;32mfor\u001b[0m \u001b[0mparticion\u001b[0m \u001b[0;32min\u001b[0m \u001b[0mvalidacionCruzada\u001b[0m\u001b[0;34m.\u001b[0m\u001b[0mparticiones\u001b[0m\u001b[0;34m:\u001b[0m\u001b[0;34m\u001b[0m\u001b[0m\n\u001b[1;32m      5\u001b[0m     \u001b[0mprint\u001b[0m\u001b[0;34m(\u001b[0m\u001b[0mparticion\u001b[0m\u001b[0;34m.\u001b[0m\u001b[0mindicesTrain\u001b[0m\u001b[0;34m)\u001b[0m\u001b[0;34m\u001b[0m\u001b[0m\n",
      "\u001b[0;32m/home/alumnos/e298729/FAA/EstrategiasParticionado/ValidacionCruzada.py\u001b[0m in \u001b[0;36mcreaParticiones\u001b[0;34m(self, datos, seed)\u001b[0m\n\u001b[1;32m     32\u001b[0m \u001b[0;34m\u001b[0m\u001b[0m\n\u001b[1;32m     33\u001b[0m         \u001b[0;32mfor\u001b[0m \u001b[0mi\u001b[0m \u001b[0;32min\u001b[0m \u001b[0mrange\u001b[0m\u001b[0;34m(\u001b[0m\u001b[0mnumero_no_alineados\u001b[0m\u001b[0;34m)\u001b[0m\u001b[0;34m:\u001b[0m\u001b[0;34m\u001b[0m\u001b[0m\n\u001b[0;32m---> 34\u001b[0;31m             \u001b[0mnp\u001b[0m\u001b[0;34m.\u001b[0m\u001b[0mappend\u001b[0m\u001b[0;34m(\u001b[0m \u001b[0mindicesParticiones\u001b[0m\u001b[0;34m[\u001b[0m\u001b[0mi\u001b[0m\u001b[0;34m]\u001b[0m\u001b[0;34m,\u001b[0m \u001b[0mindices_no_alineados\u001b[0m\u001b[0;34m[\u001b[0m\u001b[0mi\u001b[0m\u001b[0;34m]\u001b[0m\u001b[0;34m)\u001b[0m\u001b[0;34m\u001b[0m\u001b[0m\n\u001b[0m\u001b[1;32m     35\u001b[0m \u001b[0;34m\u001b[0m\u001b[0m\n\u001b[1;32m     36\u001b[0m         \u001b[0mself\u001b[0m\u001b[0;34m.\u001b[0m\u001b[0mparticiones\u001b[0m \u001b[0;34m=\u001b[0m \u001b[0;34m[\u001b[0m\u001b[0mParticion\u001b[0m\u001b[0;34m(\u001b[0m\u001b[0;34m)\u001b[0m \u001b[0;32mfor\u001b[0m \u001b[0m_\u001b[0m \u001b[0;32min\u001b[0m \u001b[0mrange\u001b[0m\u001b[0;34m(\u001b[0m\u001b[0mself\u001b[0m\u001b[0;34m.\u001b[0m\u001b[0mnfolds\u001b[0m\u001b[0;34m)\u001b[0m\u001b[0;34m]\u001b[0m\u001b[0;34m\u001b[0m\u001b[0m\n",
      "\u001b[0;31mIndexError\u001b[0m: index 7 is out of bounds for axis 0 with size 7"
     ]
    }
   ],
   "source": [
    "validacionCruzada = ValidacionCruzada()\n",
    "\n",
    "validacionCruzada.creaParticiones(dataset.datos)\n",
    "for particion in validacionCruzada.particiones:\n",
    "    print(particion.indicesTrain)\n",
    "    print(particion.indicesTest)"
   ]
  },
  {
   "cell_type": "code",
   "execution_count": 28,
   "metadata": {},
   "outputs": [
    {
     "data": {
      "text/plain": [
       "array([0, 1])"
      ]
     },
     "execution_count": 28,
     "metadata": {},
     "output_type": "execute_result"
    }
   ],
   "source": [
    "array = np.arange(0,100)\n",
    "array[0:2]\n",
    "#np.reshape(array, (10, -1))"
   ]
  },
  {
   "cell_type": "code",
   "execution_count": null,
   "metadata": {},
   "outputs": [],
   "source": []
  }
 ],
 "metadata": {
  "kernelspec": {
   "display_name": "Python 3",
   "language": "python",
   "name": "python3"
  },
  "language_info": {
   "codemirror_mode": {
    "name": "ipython",
    "version": 3
   },
   "file_extension": ".py",
   "mimetype": "text/x-python",
   "name": "python",
   "nbconvert_exporter": "python",
   "pygments_lexer": "ipython3",
   "version": "3.6.1"
  }
 },
 "nbformat": 4,
 "nbformat_minor": 2
}
