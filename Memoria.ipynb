{
 "cells": [
  {
   "cell_type": "markdown",
   "metadata": {},
   "source": [
    "# Práctica 1 Validación simple y cruzada y Naive-Bayes\n",
    "## Validación cruzada y simple\n",
    "En esta práctica se han implementado dos estrategias de validación:\n",
    "\n",
    "* Validación simple: el conjunto de datos se divide en dos subconjuntos, entrenamiento y test según un porcentaje configurable. Se realiza un shuffle previo a los datos para evitar sesgos en las particiones."
   ]
  },
  {
   "cell_type": "code",
   "execution_count": 1,
   "metadata": {},
   "outputs": [
    {
     "name": "stdout",
     "output_type": "stream",
     "text": [
      "Partición 1\n",
      "Entrenamiento:  [382 778 132 883 766 941 376  20 508 480 308 914 456 116   9] ...\n",
      "Validación [181 860  10 332 957 676 931 139 270 145 567  90 484 462 233] ...\n"
     ]
    }
   ],
   "source": [
    "import numpy as np\n",
    "from datos import Datos\n",
    "from estrategiasparticionado.validacion_simple import ValidacionSimple\n",
    "dataset=Datos('./conjunto_datos/tic-tac-toe.data')\n",
    "dataset2=Datos('./conjunto_datos/german.data')\n",
    "\n",
    "validacionSimple = ValidacionSimple()\n",
    "validacionSimple.porcentajeEntrenamiento = 0.7 # Valor por defecto\n",
    "validacionSimple.creaParticiones(dataset.datos)\n",
    "for k, particion in enumerate(validacionSimple.particiones):\n",
    "    print('Partición', k+1)\n",
    "    print('Entrenamiento: ', particion.indicesTrain[:15], '...')\n",
    "    print('Validación', particion.indicesTest[:15], '...')"
   ]
  },
  {
   "cell_type": "markdown",
   "metadata": {},
   "source": [
    "* Validación cruzada: se crean K-folds, esto es K particiones de los datos para entrenamiento y test. Cada partición j tendrá a la j-ésima partición como test y el resto para entrenamiento."
   ]
  },
  {
   "cell_type": "code",
   "execution_count": 2,
   "metadata": {},
   "outputs": [
    {
     "name": "stdout",
     "output_type": "stream",
     "text": [
      "Partición 1\n",
      "Entrenamiento:  [547 839 215  53 869 501 606 945 400 785 405 282 242 692 328] ...\n",
      "Validación [956 105 134 873 411 863 573 795 626 544 938 304 861 469  70] ...\n",
      "Partición 2\n",
      "Entrenamiento:  [956 105 134 873 411 863 573 795 626 544 938 304 861 469  70] ...\n",
      "Validación [547 839 215  53 869 501 606 945 400 785 405 282 242 692 328] ...\n",
      "Partición 3\n",
      "Entrenamiento:  [956 105 134 873 411 863 573 795 626 544 938 304 861 469  70] ...\n",
      "Validación [778 925 593 212 852 635 312 809 756 737  48 929 688 693 399] ...\n",
      "Partición 4\n",
      "Entrenamiento:  [956 105 134 873 411 863 573 795 626 544 938 304 861 469  70] ...\n",
      "Validación [371 525 166 913 346 499 339 828 183 736 374 198 887 275  56] ...\n",
      "Partición 5\n",
      "Entrenamiento:  [956 105 134 873 411 863 573 795 626 544 938 304 861 469  70] ...\n",
      "Validación [127  14 799 257 845 216 794 103 250 464   7 192 790 677 787] ...\n",
      "Partición 6\n",
      "Entrenamiento:  [956 105 134 873 411 863 573 795 626 544 938 304 861 469  70] ...\n",
      "Validación [419 421 602 367 434 653 844 287 370  90 864 622 509 269 926] ...\n",
      "Partición 7\n",
      "Entrenamiento:  [956 105 134 873 411 863 573 795 626 544 938 304 861 469  70] ...\n",
      "Validación [435 691 663 474 385 508 808 389 323 935 655 685 849 348 755] ...\n",
      "Partición 8\n",
      "Entrenamiento:  [956 105 134 873 411 863 573 795 626 544 938 304 861 469  70] ...\n",
      "Validación [773 548 904 488 627 512 618 171  26 660 262 741 620 191 711] ...\n",
      "Partición 9\n",
      "Entrenamiento:  [956 105 134 873 411 863 573 795 626 544 938 304 861 469  70] ...\n",
      "Validación [221 764 770 491 174 467 372 278 687  46 821 200 336  51 531] ...\n",
      "Partición 10\n",
      "Entrenamiento:  [956 105 134 873 411 863 573 795 626 544 938 304 861 469  70] ...\n",
      "Validación [634 872 401 651 822 550 228 380  31 468 912 957 438 507 391] ...\n"
     ]
    }
   ],
   "source": [
    "from estrategiasparticionado.validacion_cruzada import ValidacionCruzada\n",
    "\n",
    "validacionCruzada = ValidacionCruzada()\n",
    "validacionCruzada.nfolds = 10 # Valor por defecto\n",
    "validacionCruzada.creaParticiones(dataset.datos)\n",
    "for k, particion in enumerate(validacionCruzada.particiones):\n",
    "    print('Partición', k+1)\n",
    "    print('Entrenamiento: ', particion.indicesTrain[:15], '...')\n",
    "    print('Validación', particion.indicesTest[:15], '...')\n"
   ]
  },
  {
   "cell_type": "markdown",
   "metadata": {},
   "source": [
    "## Apartado 1: Naive-Bayes\n",
    "A continuación se muestra para cada uno de los datasets los errores de predicción con o sin la corrección de Laplace\n",
    "### tic-tac-toe validación simple sin Laplace"
   ]
  },
  {
   "cell_type": "code",
   "execution_count": 3,
   "metadata": {},
   "outputs": [
    {
     "name": "stdout",
     "output_type": "stream",
     "text": [
      "Error: [0.2865671641791045]\n"
     ]
    }
   ],
   "source": [
    "from clasificadores.clasificador_naive_bayes import ClasificadorNaiveBayes\n",
    "clasificador = ClasificadorNaiveBayes()\n",
    "clasificador.laplace_smoothing = 0.0\n",
    "clasificador.validacion(validacionSimple, dataset)\n",
    "print('Error:', clasificador.errores)\n",
    "error_tic = clasificador.errores[0]"
   ]
  },
  {
   "cell_type": "markdown",
   "metadata": {},
   "source": [
    "### tic-tac-toe validación simple con Laplace"
   ]
  },
  {
   "cell_type": "code",
   "execution_count": 4,
   "metadata": {},
   "outputs": [
    {
     "name": "stdout",
     "output_type": "stream",
     "text": [
      "Error: [0.2671641791044776]\n"
     ]
    }
   ],
   "source": [
    "clasificador = ClasificadorNaiveBayes()\n",
    "clasificador.laplace_smoothing = 1.0\n",
    "clasificador.validacion(validacionSimple, dataset)\n",
    "print('Error:', clasificador.errores)\n",
    "error_tic_laplace = clasificador.errores[0]"
   ]
  },
  {
   "cell_type": "markdown",
   "metadata": {},
   "source": [
    "### tic-tac-toe validación cruzada sin Laplace"
   ]
  },
  {
   "cell_type": "code",
   "execution_count": 5,
   "metadata": {},
   "outputs": [
    {
     "name": "stdout",
     "output_type": "stream",
     "text": [
      "Errores: [0.2853828306264501, 0.2819025522041763, 0.2923433874709977, 0.29814385150812067, 0.302784222737819, 0.2888631090487239, 0.30162412993039445, 0.29814385150812067, 0.3047508690614137, 0.28157589803012745]\n",
      "Error: 0.2936 +- 0.0166\n"
     ]
    }
   ],
   "source": [
    "clasificador = ClasificadorNaiveBayes()\n",
    "clasificador.laplace_smoothing = 0.0\n",
    "clasificador.validacion(validacionCruzada, dataset)\n",
    "print('Errores:', clasificador.errores)\n",
    "print('Error: %.4f +- %.4f' % (np.mean(clasificador.errores), 2*np.std(clasificador.errores)))\n",
    "error_tic_cruzada = np.mean(clasificador.errores)"
   ]
  },
  {
   "cell_type": "markdown",
   "metadata": {},
   "source": [
    "### tic-tac-toe validación cruzada con Laplace"
   ]
  },
  {
   "cell_type": "code",
   "execution_count": 6,
   "metadata": {},
   "outputs": [
    {
     "name": "stdout",
     "output_type": "stream",
     "text": [
      "Errores: [0.29350348027842227, 0.27262180974477956, 0.302784222737819, 0.2888631090487239, 0.2923433874709977, 0.29698375870069604, 0.28074245939675174, 0.2819025522041763, 0.2954808806488992, 0.2966396292004635]\n",
      "Error: 0.2902 +- 0.0174\n"
     ]
    }
   ],
   "source": [
    "clasificador = ClasificadorNaiveBayes()\n",
    "clasificador.laplace_smoothing = 1.0\n",
    "clasificador.validacion(validacionCruzada, dataset)\n",
    "print('Errores:', clasificador.errores)\n",
    "print('Error: %.4f +- %.4f' % (np.mean(clasificador.errores), 2*np.std(clasificador.errores)))\n",
    "error_tic_cruzada_laplace = np.mean(clasificador.errores)"
   ]
  },
  {
   "cell_type": "markdown",
   "metadata": {},
   "source": [
    "### german validacion simple sin Laplace"
   ]
  },
  {
   "cell_type": "code",
   "execution_count": 7,
   "metadata": {},
   "outputs": [
    {
     "name": "stdout",
     "output_type": "stream",
     "text": [
      "Error: [0.23857142857142857]\n"
     ]
    }
   ],
   "source": [
    "clasificador = ClasificadorNaiveBayes()\n",
    "clasificador.laplace_smoothing = 0.0\n",
    "clasificador.validacion(validacionSimple, dataset2)\n",
    "print('Error:', clasificador.errores)\n",
    "error_german = clasificador.errores[0]"
   ]
  },
  {
   "cell_type": "markdown",
   "metadata": {},
   "source": [
    "### german validacion simple con Laplace"
   ]
  },
  {
   "cell_type": "code",
   "execution_count": 8,
   "metadata": {},
   "outputs": [
    {
     "name": "stdout",
     "output_type": "stream",
     "text": [
      "Error: [0.24]\n"
     ]
    }
   ],
   "source": [
    "clasificador = ClasificadorNaiveBayes()\n",
    "clasificador.laplace_smoothing = 1.0\n",
    "clasificador.validacion(validacionSimple, dataset2)\n",
    "print('Error:', clasificador.errores)\n",
    "error_german_laplace = clasificador.errores[0]"
   ]
  },
  {
   "cell_type": "markdown",
   "metadata": {},
   "source": [
    "### german validacion cruzada sin Laplace"
   ]
  },
  {
   "cell_type": "code",
   "execution_count": 9,
   "metadata": {},
   "outputs": [
    {
     "name": "stdout",
     "output_type": "stream",
     "text": [
      "Errores: [0.23333333333333334, 0.24222222222222223, 0.2511111111111111, 0.23555555555555555, 0.22444444444444445, 0.23777777777777778, 0.23555555555555555, 0.2311111111111111, 0.24222222222222223, 0.24444444444444444]\n",
      "Error: 0.2378 +- 0.0143\n"
     ]
    }
   ],
   "source": [
    "clasificador = ClasificadorNaiveBayes()\n",
    "clasificador.laplace_smoothing = 0.0\n",
    "clasificador.validacion(validacionCruzada, dataset2)\n",
    "print('Errores:', clasificador.errores)\n",
    "print('Error: %.4f +- %.4f' % (np.mean(clasificador.errores), 2*np.std(clasificador.errores)))\n",
    "error_german_cruzada = np.mean(clasificador.errores)"
   ]
  },
  {
   "cell_type": "markdown",
   "metadata": {},
   "source": [
    "### german validacion cruzada con Laplace"
   ]
  },
  {
   "cell_type": "code",
   "execution_count": 10,
   "metadata": {},
   "outputs": [
    {
     "name": "stdout",
     "output_type": "stream",
     "text": [
      "Errores: [0.24222222222222223, 0.2588888888888889, 0.23444444444444446, 0.22555555555555556, 0.24, 0.26, 0.2311111111111111, 0.2388888888888889, 0.23444444444444446, 0.23]\n",
      "Error: 0.2396 +- 0.0220\n"
     ]
    }
   ],
   "source": [
    "clasificador = ClasificadorNaiveBayes()\n",
    "clasificador.laplace_smoothing = 1.0\n",
    "clasificador.validacion(validacionCruzada, dataset2)\n",
    "print('Errores:', clasificador.errores)\n",
    "print('Error: %.4f +- %.4f' % (np.mean(clasificador.errores), 2*np.std(clasificador.errores)))\n",
    "error_german_cruzada_laplace = np.mean(clasificador.errores)"
   ]
  },
  {
   "cell_type": "markdown",
   "metadata": {},
   "source": [
    "### Apartado 2 Análisis\n",
    "Los resultados obtenidos son satisfactorios con errores entre el 20% y el 30% dependiendo del dataset. En concreto, en el dataset de *tic-tac-toe* la corrección de Laplace aporta un valor añadido ya que hay muchas particiones en las que faltan datos de una clase y esto provoca una predicción erronea. En el dataset de *german*, por otro lado, solo parece aportar ruído ya que esto no parece afectar a la predicción.\n",
    "\n",
    "En general se ve que la validación cruzada obtiene un error medio menor, ya que dentro de la muestra se ven valores a veces muy bajos o a veces muy altos. (stddev = 5%)"
   ]
  },
  {
   "cell_type": "code",
   "execution_count": 11,
   "metadata": {},
   "outputs": [
    {
     "data": {
      "text/plain": [
       "<matplotlib.text.Text at 0x7f300c0947b8>"
      ]
     },
     "execution_count": 11,
     "metadata": {},
     "output_type": "execute_result"
    },
    {
     "data": {
      "image/png": "[encoded data removed]",
      "text/plain": [
       "<matplotlib.figure.Figure at 0x7f3015f56c50>"
      ]
     },
     "metadata": {},
     "output_type": "display_data"
    }
   ],
   "source": [
    "import matplotlib.pyplot as plt\n",
    "%matplotlib inline\n",
    "ind = [error_tic, error_tic_laplace, error_tic_cruzada, error_tic_cruzada_laplace]\n",
    "fig, ax = plt.subplots()\n",
    "plt.bar(range(4), ind)\n",
    "ax.set_xticks(range(4))\n",
    "ax.set_xticklabels(['Simple', 'Simple Laplace', 'Cruzada', 'Cruzada Laplace'])\n",
    "ax.set_ylabel('Error (menos mejor)')\n",
    "ax.set_title('Error dataset Tic-Tac-Toe')"
   ]
  },
  {
   "cell_type": "code",
   "execution_count": 12,
   "metadata": {},
   "outputs": [
    {
     "data": {
      "text/plain": [
       "<matplotlib.text.Text at 0x7f300bf75da0>"
      ]
     },
     "execution_count": 12,
     "metadata": {},
     "output_type": "execute_result"
    },
    {
     "data": {
      "image/png": "[encoded data removed]",
      "text/plain": [
       "<matplotlib.figure.Figure at 0x7f301414a828>"
      ]
     },
     "metadata": {},
     "output_type": "display_data"
    }
   ],
   "source": [
    "import matplotlib.pyplot as plt\n",
    "%matplotlib inline\n",
    "ind = [error_german, error_german_laplace, error_german_cruzada, error_german_cruzada_laplace]\n",
    "fig, ax = plt.subplots()\n",
    "plt.bar(range(4), ind)\n",
    "ax.set_xticks(range(4))\n",
    "ax.set_xticklabels(['Simple', 'Simple Laplace', 'Cruzada', 'Cruzada Laplace'])\n",
    "ax.set_ylabel('Error (menos mejor)')\n",
    "ax.set_title('Error dataset German')"
   ]
  },
  {
   "cell_type": "markdown",
   "metadata": {},
   "source": [
    "### Apartado 3 Scikit"
   ]
  },
  {
   "cell_type": "code",
   "execution_count": 13,
   "metadata": {
    "collapsed": true
   },
   "outputs": [],
   "source": [
    "from sklearn.naive_bayes import MultinomialNB, GaussianNB\n",
    "from sklearn.model_selection import train_test_split\n",
    "from sklearn import preprocessing \n",
    "from sklearn.model_selection import cross_val_score\n",
    "from sklearn.metrics import confusion_matrix\n",
    "from sklearn.model_selection import ShuffleSplit\n",
    "\n",
    "import itertools \n",
    "\n",
    "def plot_confusion_matrix(cm, classes,\n",
    "                          normalize=False,\n",
    "                          title='Confusion matrix',\n",
    "                          cmap=plt.cm.Blues):\n",
    "    \"\"\"\n",
    "    This function prints and plots the confusion matrix.\n",
    "    Normalization can be applied by setting `normalize=True`.\n",
    "    \"\"\"\n",
    "    if normalize:\n",
    "        cm = cm.astype('float') / cm.sum(axis=1)[:, np.newaxis]\n",
    "        print(\"Normalized confusion matrix\")\n",
    "    else:\n",
    "        print('Confusion matrix, without normalization')\n",
    "\n",
    "    print(cm)\n",
    "\n",
    "    plt.imshow(cm, interpolation='nearest', cmap=cmap)\n",
    "    plt.title(title)\n",
    "    plt.colorbar()\n",
    "    tick_marks = np.arange(len(classes))\n",
    "    plt.xticks(tick_marks, classes, rotation=45)\n",
    "    plt.yticks(tick_marks, classes)\n",
    "\n",
    "    fmt = '.2f' if normalize else 'd'\n",
    "    thresh = cm.max() / 2.\n",
    "    for i, j in itertools.product(range(cm.shape[0]), range(cm.shape[1])):\n",
    "        plt.text(j, i, format(cm[i, j], fmt),\n",
    "                 horizontalalignment=\"center\",\n",
    "                 color=\"white\" if cm[i, j] > thresh else \"black\")\n",
    "\n",
    "    plt.tight_layout()\n",
    "    plt.ylabel('True label')\n",
    "    plt.xlabel('Predicted label')\n"
   ]
  },
  {
   "cell_type": "markdown",
   "metadata": {},
   "source": [
    "### Caso tic-tac-toe\n",
    "#### Codificación de los atributos"
   ]
  },
  {
   "cell_type": "code",
   "execution_count": 14,
   "metadata": {
    "collapsed": true
   },
   "outputs": [],
   "source": [
    "encAtributos = preprocessing.OneHotEncoder(categorical_features=dataset.nominalAtributos[:-1],sparse=False)\n",
    "X = encAtributos.fit_transform(dataset.datos[:,:-1])\n",
    "Y = dataset.datos[:,-1] \n",
    "class_names = sorted(dataset.diccionarios[-1].keys())\n",
    "X_train, X_test, Y_train, Y_test = train_test_split(X, Y, test_size=0.3, random_state=0)"
   ]
  },
  {
   "cell_type": "markdown",
   "metadata": {},
   "source": [
    "#### Modelo\n",
    "Utilizamos un modelo multinomial ya que todos los atributos son nominales (discretos)."
   ]
  },
  {
   "cell_type": "code",
   "execution_count": 15,
   "metadata": {
    "collapsed": true
   },
   "outputs": [],
   "source": [
    "# Clasificador\n",
    "laplace_smoothing = 0.0\n",
    "model = MultinomialNB()\n",
    "if laplace_smoothing != 0:\n",
    "    model.alpha = laplace_smoothing"
   ]
  },
  {
   "cell_type": "markdown",
   "metadata": {},
   "source": [
    "#### Clasificación"
   ]
  },
  {
   "cell_type": "code",
   "execution_count": 16,
   "metadata": {},
   "outputs": [
    {
     "name": "stdout",
     "output_type": "stream",
     "text": [
      "Validación simple. Error: 0.32\n",
      "Validación cruzada. Error: 0.30 (+/- 0.04)\n"
     ]
    }
   ],
   "source": [
    "# Validacion simple\n",
    "model.fit(X_train, Y_train)\n",
    "score = model.score(X_test, Y_test)\n",
    "print(\"Validación simple. Error: %0.2f\" % (1-score))\n",
    "cnf_matrix = confusion_matrix(Y_test, model.predict(X_test))\n",
    "\n",
    "# Validacion cruzada\n",
    "cv = ShuffleSplit(n_splits=10, test_size=0.3, random_state=0)\n",
    "scores = cross_val_score(model, X, Y, cv=cv)\n",
    "print(\"Validación cruzada. Error: %0.2f (+/- %0.2f)\" % (1-scores.mean(), scores.std() * 2))"
   ]
  },
  {
   "cell_type": "code",
   "execution_count": 17,
   "metadata": {
    "scrolled": false
   },
   "outputs": [
    {
     "name": "stdout",
     "output_type": "stream",
     "text": [
      "Confusion matrix, without normalization\n",
      "[[ 43  57]\n",
      " [ 34 154]]\n",
      "Normalized confusion matrix\n",
      "[[ 0.43        0.57      ]\n",
      " [ 0.18085106  0.81914894]]\n"
     ]
    },
    {
     "data": {
      "image/png": "[encoded data removed]",
      "text/plain": [
       "<matplotlib.figure.Figure at 0x7f300bfd3fd0>"
      ]
     },
     "metadata": {},
     "output_type": "display_data"
    },
    {
     "data": {
      "image/png": "[encoded data removed]",
      "text/plain": [
       "<matplotlib.figure.Figure at 0x7f3013ed24e0>"
      ]
     },
     "metadata": {},
     "output_type": "display_data"
    },
    {
     "data": {
      "text/plain": [
       "<matplotlib.figure.Figure at 0x7f300a971fd0>"
      ]
     },
     "metadata": {},
     "output_type": "display_data"
    },
    {
     "data": {
      "image/png": "[encoded data removed]",
      "text/plain": [
       "<matplotlib.figure.Figure at 0x7f300a8827f0>"
      ]
     },
     "metadata": {},
     "output_type": "display_data"
    }
   ],
   "source": [
    "# Mostrar matrices de confusion\n",
    "plt.figure()\n",
    "plot_confusion_matrix(cnf_matrix, classes=class_names,\n",
    "                      title='Confusion matrix, without normalization')\n",
    "\n",
    "plt.figure()\n",
    "plot_confusion_matrix(cnf_matrix, classes=class_names, normalize=True,\n",
    "                      title='Normalized confusion matrix')\n",
    "\n",
    "plt.figure()\n",
    "ind = [error_tic, 1-score, error_tic_cruzada, 1-scores.mean()]\n",
    "fig, ax = plt.subplots()\n",
    "plt.bar(range(4), ind)\n",
    "ax.set_xticks(range(4))\n",
    "ax.set_xticklabels(['Simple', 'Simple Scikit', 'Cruzada', 'Cruzada Scikit'])\n",
    "ax.set_ylabel('Error (menos mejor)')\n",
    "ax.set_title('Error  dataset Tic-Tac-Toe')\n",
    "\n",
    "plt.show()"
   ]
  },
  {
   "cell_type": "markdown",
   "metadata": {},
   "source": [
    "Se observa que en particular, clasificamos bastante mal los negativos, teniendo un error en torno al 57% (es decir, una probabilidad de dar un falso positivo muy alta). Esto aún así puede ser bueno si logramos minimizar la probabilidad de un falso negativo (18%) que puede ser muy interesante en campos como el diagnóstico de enfermedades o el control de calidad.\n",
    "### Caso german\n",
    "En este caso, utilizamos un clasificador NB Gaussiano, que asumirá que todos los atributos son atributos continuos de distribución normal, luego cometeremos un error alto."
   ]
  },
  {
   "cell_type": "code",
   "execution_count": 18,
   "metadata": {},
   "outputs": [
    {
     "name": "stdout",
     "output_type": "stream",
     "text": [
      "Validación simple. Error: 0.31\n",
      "Validación cruzada. Error: 0.28 (+/- 0.05)\n",
      "Confusion matrix, without normalization\n",
      "[[160  54]\n",
      " [ 38  48]]\n",
      "Normalized confusion matrix\n",
      "[[ 0.74766355  0.25233645]\n",
      " [ 0.44186047  0.55813953]]\n"
     ]
    },
    {
     "data": {
      "image/png": "[encoded data removed]",
      "text/plain": [
       "<matplotlib.figure.Figure at 0x7f300a7a87b8>"
      ]
     },
     "metadata": {},
     "output_type": "display_data"
    },
    {
     "data": {
      "image/png": "[encoded data removed]",
      "text/plain": [
       "<matplotlib.figure.Figure at 0x7f300a7bc748>"
      ]
     },
     "metadata": {},
     "output_type": "display_data"
    },
    {
     "data": {
      "text/plain": [
       "<matplotlib.figure.Figure at 0x7f300a98bac8>"
      ]
     },
     "metadata": {},
     "output_type": "display_data"
    },
    {
     "data": {
      "image/png": "[encoded data removed]",
      "text/plain": [
       "<matplotlib.figure.Figure at 0x7f300a92d630>"
      ]
     },
     "metadata": {},
     "output_type": "display_data"
    }
   ],
   "source": [
    "encAtributos = preprocessing.OneHotEncoder(categorical_features=dataset2.nominalAtributos[:-1],sparse=False)\n",
    "X = encAtributos.fit_transform(dataset2.datos[:,:-1])\n",
    "Y = dataset2.datos[:,-1] \n",
    "class_names = sorted(dataset2.diccionarios[-1].keys())\n",
    "X_train, X_test, Y_train, Y_test = train_test_split(X, Y, test_size=0.3, random_state=1)\n",
    "\n",
    "# Clasificador\n",
    "laplace_smoothing = 0\n",
    "model = GaussianNB()\n",
    "if laplace_smoothing != 0:\n",
    "    model.alpha = laplace_smoothing\n",
    "    \n",
    "# Validacion simple\n",
    "model.fit(X_train, Y_train)\n",
    "score = model.score(X_test, Y_test)\n",
    "print(\"Validación simple. Error: %0.2f\" % (1-score))\n",
    "cnf_matrix = confusion_matrix(Y_test, model.predict(X_test))\n",
    "\n",
    "# Validacion cruzada\n",
    "cv = ShuffleSplit(n_splits=10, test_size=0.3, random_state=0)\n",
    "scores = cross_val_score(model, X, Y, cv=cv)\n",
    "print(\"Validación cruzada. Error: %0.2f (+/- %0.2f)\" % (1-scores.mean(), scores.std() * 2))\n",
    "\n",
    "# Mostrar matrices de confusion\n",
    "plt.figure()\n",
    "plot_confusion_matrix(cnf_matrix, classes=class_names,\n",
    "                      title='Confusion matrix, without normalization')\n",
    "\n",
    "plt.figure()\n",
    "plot_confusion_matrix(cnf_matrix, classes=class_names, normalize=True,\n",
    "                      title='Normalized confusion matrix')\n",
    "\n",
    "plt.figure()\n",
    "ind = [error_german, 1-score, error_german_cruzada, 1-scores.mean()]\n",
    "fig, ax = plt.subplots()\n",
    "plt.bar(range(4), ind)\n",
    "ax.set_xticks(range(4))\n",
    "ax.set_xticklabels(['Simple', 'Simple Scikit', 'Cruzada', 'Cruzada Scikit'])\n",
    "ax.set_ylabel('Error (menos mejor)')\n",
    "ax.set_title('Error  dataset German')\n",
    "\n",
    "plt.show()"
   ]
  },
  {
   "cell_type": "markdown",
   "metadata": {},
   "source": [
    "Como se ha mencionado antes, el error es considerablemente alto al nuestro ya que este Dataset contiene datos discretos y continuos y los clasificadores que usamos (Multinomial o Gaussian) asumen que o bien son discretos los datos o bien son continuos.\n",
    "\n",
    "Se observa como antes que se predice muy bien una de las dos clases, mientras que la otra tiene un error en torno al 50% (seguramente esta segunda clase dependa de dar una mejor estimación a los atributos nominales).\n",
    "\n",
    "No se incluyen por brevedad los resultados obtenidos con la corrección de Laplace pero son análogos a los obtenidos y la mejora es imperceptible o inexistente.\n",
    "\n",
    "## Apartado 4 Comentarios sobre la validación cruzada\n",
    "En sí la validación cruzada nos permite dividir un conjunto de datos en K particiones para la clasificación, sin embargo, esto puede no ser tan estable según el dataset.\n",
    "\n",
    "El ejemplo más claro de este fenómeno viene dado por el ordenamiento de los datos, esto lo que genera es que al estar ordenados los datos, al hacer la división en cada uno de los K-folds, resulte en que los datos de cada K-fold se parecen mucho entre sí y en general poco a los de entrenamiento, lo que genera un error mucho más alto del real. Para ello, se propone como solución (implementada también en nuestras implementaciones), un shuffle previo de los indices antes de realizar la validación cruzada o simple para así maximizar la distancia entre datos contiguos.\n",
    "\n",
    "Por otro lado, la validación cruzada devuelve K errores en vez de uno sólo, lo que puede generar interpretaciones erróneas de este valor ya que coger el mínimo o la media si hay mucha dispersión, puede resultar en dar una estimación poco real del error.\n",
    "\n",
    "Además en el caso de modelos hiperparamétricos, donde previo a entrenamiento, se debe estimar un parámetro (el único caso aquí es la corrección de Laplace y no se cumple esto), puede generar fallos ya que la estimación y optimización del hiperparámetro estará realizada teniendo en cuenta todos los datos y no restringiéndose al conjunto de entrenamiento.\n",
    "\n",
    "De manera empírica, se añade que el valor de la validación cruzada viene dado solo por el obtener un valor de desviación típica del error, ya que la media del error es similar a la dada por validación simple. Nótese que esto es algo particular del dataset y del clasificador, pero en este caso, no aporta un valor añadido."
   ]
  }
 ],
 "metadata": {
  "kernelspec": {
   "display_name": "Python 3",
   "language": "python",
   "name": "python3"
  },
  "language_info": {
   "codemirror_mode": {
    "name": "ipython",
    "version": 3
   },
   "file_extension": ".py",
   "mimetype": "text/x-python",
   "name": "python",
   "nbconvert_exporter": "python",
   "pygments_lexer": "ipython3",
   "version": "3.6.2"
  }
 },
 "nbformat": 4,
 "nbformat_minor": 2
}
