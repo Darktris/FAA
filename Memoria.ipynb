{
 "cells": [
  {
   "cell_type": "markdown",
   "metadata": {},
   "source": [
    "# Práctica 1 Validación simple y cruzada y Naive-Bayes\n",
    "## Validación cruzada y simple\n",
    "En esta práctica se han implementado dos estrategias de validación:\n",
    "\n",
    "* Validación simple: el conjunto se divide en dos conjuntos, entrenamiento y test según un porcentaje configurable. Se realiza un shuffle previo a los datos."
   ]
  },
  {
   "cell_type": "code",
   "execution_count": 67,
   "metadata": {},
   "outputs": [
    {
     "name": "stdout",
     "output_type": "stream",
     "text": [
      "Partición 1\n",
      "Entrenamiento:  [ 53 688 376 817 663 213 525 263 927 783 893 679  18 899 592] ...\n",
      "Validación [602 496 748 505 612 673 876  22 741 308 646 140  94 139 604] ...\n"
     ]
    }
   ],
   "source": [
    "import numpy as np\n",
    "from datos import Datos\n",
    "from estrategiasparticionado.validacion_simple import ValidacionSimple\n",
    "dataset=Datos('./conjunto_datos/tic-tac-toe.data')\n",
    "dataset2=Datos('./conjunto_datos/german.data')\n",
    "\n",
    "validacionSimple = ValidacionSimple()\n",
    "validacionSimple.porcentajeEntrenamiento = 0.7 # Valor por defecto\n",
    "validacionSimple.creaParticiones(dataset.datos)\n",
    "for k, particion in enumerate(validacionSimple.particiones):\n",
    "    print('Partición', k+1)\n",
    "    print('Entrenamiento: ', particion.indicesTrain[:15], '...')\n",
    "    print('Validación', particion.indicesTest[:15], '...')"
   ]
  },
  {
   "cell_type": "markdown",
   "metadata": {},
   "source": [
    "* Validación cruzada se crean K-folds, esto es K particiones de los datos en entrenamiento y test. Cada partición j tendrá a la j-ésima partición como test y el resto para entrenamiento."
   ]
  },
  {
   "cell_type": "code",
   "execution_count": 68,
   "metadata": {},
   "outputs": [
    {
     "name": "stdout",
     "output_type": "stream",
     "text": [
      "Partición 1\n",
      "Entrenamiento:  [919 812 817 337 313 859 860 235 927 702 436 367 862 550 557] ...\n",
      "Validación [379 822 571 698 858 670 430 201 373 215 931 916 341  84 376] ...\n",
      "Partición 2\n",
      "Entrenamiento:  [379 822 571 698 858 670 430 201 373 215 931 916 341  84 376] ...\n",
      "Validación [919 812 817 337 313 859 860 235 927 702 436 367 862 550 557] ...\n",
      "Partición 3\n",
      "Entrenamiento:  [589 498 297 588 662 920 830 262 552 378 701 877 175 178 403] ...\n",
      "Validación [919 812 817 337 313 859 860 235 927 702 436 367 862 550 557] ...\n",
      "Partición 4\n",
      "Entrenamiento:  [836 507 573 897 158 193 744  38 100 666 483 551 678 780 328] ...\n",
      "Validación [919 812 817 337 313 859 860 235 927 702 436 367 862 550 557] ...\n",
      "Partición 5\n",
      "Entrenamiento:  [831 349 346 416 851 777 747 918 838 664 432 249 300 381 375] ...\n",
      "Validación [919 812 817 337 313 859 860 235 927 702 436 367 862 550 557] ...\n",
      "Partición 6\n",
      "Entrenamiento:  [646 648 861 881 317 218 399 624 773 715 222 803 340 177  68] ...\n",
      "Validación [919 812 817 337 313 859 860 235 927 702 436 367 862 550 557] ...\n",
      "Partición 7\n",
      "Entrenamiento:  [902 775  59 515 388 548 596  62  40 938 553 567 255 466 327] ...\n",
      "Validación [919 812 817 337 313 859 860 235 927 702 436 367 862 550 557] ...\n",
      "Partición 8\n",
      "Entrenamiento:  [237 722 718 267 674 396 562 233  69 387   6 322 129 186 716] ...\n",
      "Validación [919 812 817 337 313 859 860 235 927 702 436 367 862 550 557] ...\n",
      "Partición 9\n",
      "Entrenamiento:  [197 530 688 795 208 169 152  19 126  33 130 446 135 122 872] ...\n",
      "Validación [919 812 817 337 313 859 860 235 927 702 436 367 862 550 557] ...\n",
      "Partición 10\n",
      "Entrenamiento:  [  0 758 903 195 924 540   7 191 314 459 339 517 584 583  56] ...\n",
      "Validación [919 812 817 337 313 859 860 235 927 702 436 367 862 550 557] ...\n"
     ]
    }
   ],
   "source": [
    "from estrategiasparticionado.validacion_cruzada import ValidacionCruzada\n",
    "\n",
    "validacionCruzada = ValidacionCruzada()\n",
    "validacionCruzada.nfolds = 10 # Valor por defecto\n",
    "validacionCruzada.creaParticiones(dataset.datos)\n",
    "for k, particion in enumerate(validacionCruzada.particiones):\n",
    "    print('Partición', k+1)\n",
    "    print('Entrenamiento: ', particion.indicesTrain[:15], '...')\n",
    "    print('Validación', particion.indicesTest[0][:15], '...')\n"
   ]
  },
  {
   "cell_type": "markdown",
   "metadata": {},
   "source": [
    "## Apartado 1: Naive-Bayes\n",
    "A continuación se muestra para cada uno de los datasets los errores de predicción con o sin la corrección de Laplace\n",
    "### tic-tac-toe validación simple sin Laplace"
   ]
  },
  {
   "cell_type": "code",
   "execution_count": 69,
   "metadata": {},
   "outputs": [
    {
     "name": "stdout",
     "output_type": "stream",
     "text": [
      "Error: [0.28059701492537314]\n"
     ]
    }
   ],
   "source": [
    "from clasificadores.clasificador_naive_bayes import ClasificadorNaiveBayes\n",
    "clasificador = ClasificadorNaiveBayes()\n",
    "clasificador.laplace_smoothing = 0.0\n",
    "clasificador.validacion(validacionSimple, dataset)\n",
    "print('Error:', clasificador.errores)\n",
    "error_tic = clasificador.errores[0]"
   ]
  },
  {
   "cell_type": "markdown",
   "metadata": {},
   "source": [
    "### tic-tac-toe validación simple con Laplace"
   ]
  },
  {
   "cell_type": "code",
   "execution_count": 70,
   "metadata": {},
   "outputs": [
    {
     "name": "stdout",
     "output_type": "stream",
     "text": [
      "Error: [0.26119402985074625]\n"
     ]
    }
   ],
   "source": [
    "clasificador = ClasificadorNaiveBayes()\n",
    "clasificador.laplace_smoothing = 1.0\n",
    "clasificador.validacion(validacionSimple, dataset)\n",
    "print('Error:', clasificador.errores)\n",
    "error_tic_laplace = clasificador.errores[0]"
   ]
  },
  {
   "cell_type": "markdown",
   "metadata": {},
   "source": [
    "### tic-tac-toe validación cruzada sin Laplace"
   ]
  },
  {
   "cell_type": "code",
   "execution_count": 71,
   "metadata": {},
   "outputs": [
    {
     "name": "stdout",
     "output_type": "stream",
     "text": [
      "Errores: [0.17708333333333334, 0.2604166666666667, 0.22916666666666666, 0.23958333333333334, 0.2708333333333333, 0.22916666666666666, 0.2708333333333333, 0.28125, 0.22105263157894736, 0.23157894736842105]\n",
      "Error: 0.2411 +- 0.0588\n"
     ]
    }
   ],
   "source": [
    "clasificador = ClasificadorNaiveBayes()\n",
    "clasificador.laplace_smoothing = 0.0\n",
    "clasificador.validacion(validacionCruzada, dataset)\n",
    "print('Errores:', clasificador.errores)\n",
    "print('Error: %.4f +- %.4f' % (np.mean(clasificador.errores), 2*np.std(clasificador.errores)))\n",
    "error_tic_cruzada = np.mean(clasificador.errores)"
   ]
  },
  {
   "cell_type": "markdown",
   "metadata": {},
   "source": [
    "### tic-tac-toe validación cruzada con Laplace"
   ]
  },
  {
   "cell_type": "code",
   "execution_count": 72,
   "metadata": {},
   "outputs": [
    {
     "name": "stdout",
     "output_type": "stream",
     "text": [
      "Errores: [0.28125, 0.20833333333333334, 0.28125, 0.21875, 0.17708333333333334, 0.16666666666666666, 0.1875, 0.22916666666666666, 0.29473684210526313, 0.17894736842105263]\n",
      "Error: 0.2224 +- 0.0910\n"
     ]
    }
   ],
   "source": [
    "clasificador = ClasificadorNaiveBayes()\n",
    "clasificador.laplace_smoothing = 1.0\n",
    "clasificador.validacion(validacionCruzada, dataset)\n",
    "print('Errores:', clasificador.errores)\n",
    "print('Error: %.4f +- %.4f' % (np.mean(clasificador.errores), 2*np.std(clasificador.errores)))\n",
    "error_tic_cruzada_laplace = np.mean(clasificador.errores)"
   ]
  },
  {
   "cell_type": "markdown",
   "metadata": {},
   "source": [
    "### german validacion simple sin Laplace"
   ]
  },
  {
   "cell_type": "code",
   "execution_count": 73,
   "metadata": {},
   "outputs": [
    {
     "name": "stdout",
     "output_type": "stream",
     "text": [
      "Error: [0.25]\n"
     ]
    }
   ],
   "source": [
    "clasificador = ClasificadorNaiveBayes()\n",
    "clasificador.laplace_smoothing = 0.0\n",
    "clasificador.validacion(validacionSimple, dataset2)\n",
    "print('Error:', clasificador.errores)\n",
    "error_german = clasificador.errores[0]"
   ]
  },
  {
   "cell_type": "markdown",
   "metadata": {},
   "source": [
    "### german validacion simple con Laplace"
   ]
  },
  {
   "cell_type": "code",
   "execution_count": 74,
   "metadata": {},
   "outputs": [
    {
     "name": "stdout",
     "output_type": "stream",
     "text": [
      "Error: [0.24285714285714285]\n"
     ]
    }
   ],
   "source": [
    "clasificador = ClasificadorNaiveBayes()\n",
    "clasificador.laplace_smoothing = 1.0\n",
    "clasificador.validacion(validacionSimple, dataset2)\n",
    "print('Error:', clasificador.errores)\n",
    "error_german_laplace = clasificador.errores[0]"
   ]
  },
  {
   "cell_type": "markdown",
   "metadata": {},
   "source": [
    "### german validacion cruzada sin Laplace"
   ]
  },
  {
   "cell_type": "code",
   "execution_count": 75,
   "metadata": {},
   "outputs": [
    {
     "name": "stdout",
     "output_type": "stream",
     "text": [
      "Errores: [0.17, 0.13, 0.07, 0.13, 0.16, 0.2, 0.23, 0.21, 0.16, 0.17]\n",
      "Error: 0.1630 +- 0.0872\n"
     ]
    }
   ],
   "source": [
    "clasificador = ClasificadorNaiveBayes()\n",
    "clasificador.laplace_smoothing = 0.0\n",
    "clasificador.validacion(validacionCruzada, dataset2)\n",
    "print('Errores:', clasificador.errores)\n",
    "print('Error: %.4f +- %.4f' % (np.mean(clasificador.errores), 2*np.std(clasificador.errores)))\n",
    "error_german_cruzada = np.mean(clasificador.errores)"
   ]
  },
  {
   "cell_type": "markdown",
   "metadata": {},
   "source": [
    "### german validacion cruzada con Laplace"
   ]
  },
  {
   "cell_type": "code",
   "execution_count": 76,
   "metadata": {},
   "outputs": [
    {
     "name": "stdout",
     "output_type": "stream",
     "text": [
      "Errores: [0.19, 0.19, 0.18, 0.2, 0.21, 0.21, 0.17, 0.24, 0.21, 0.17]\n",
      "Error: 0.1970 +- 0.0410\n"
     ]
    }
   ],
   "source": [
    "clasificador = ClasificadorNaiveBayes()\n",
    "clasificador.laplace_smoothing = 1.0\n",
    "clasificador.validacion(validacionCruzada, dataset2)\n",
    "print('Errores:', clasificador.errores)\n",
    "print('Error: %.4f +- %.4f' % (np.mean(clasificador.errores), 2*np.std(clasificador.errores)))\n",
    "error_german_cruzada_laplace = np.mean(clasificador.errores)"
   ]
  },
  {
   "cell_type": "markdown",
   "metadata": {},
   "source": [
    "### Apartado 2 Análisis\n",
    "Los resultados obtenidos son satisfactorios con errores entre el 20% y el 30% dependiendo el dataset. En concreto, en el dataset de *tic-tac-toe* la corrección de Laplace aporta un valor añadido ya que hay muchas particiones en las que faltan datos de una clase y esto provoca una predicción erronea. En el dataset de german, por otro lado, solo parece aportar ruído ya que esto no parece afectar a la predicción.\n",
    "\n",
    "En todos los casos se ve como la validación cruzada obtiene un error medio menor, ya que dentro de la muestra se ven valores a veces muy bajos o a veces muy altos. (std = 5%)"
   ]
  },
  {
   "cell_type": "code",
   "execution_count": 77,
   "metadata": {},
   "outputs": [
    {
     "data": {
      "text/plain": [
       "<matplotlib.text.Text at 0x7fb90fdc3710>"
      ]
     },
     "execution_count": 77,
     "metadata": {},
     "output_type": "execute_result"
    },
    {
     "data": {
      "image/png": "[encoded data removed]",
      "text/plain": [
       "<matplotlib.figure.Figure at 0x7fb942b5b588>"
      ]
     },
     "metadata": {},
     "output_type": "display_data"
    }
   ],
   "source": [
    "import matplotlib.pyplot as plt\n",
    "%matplotlib inline\n",
    "ind = [error_tic, error_tic_laplace, error_tic_cruzada, error_tic_cruzada_laplace]\n",
    "fig, ax = plt.subplots()\n",
    "plt.bar(range(4), ind)\n",
    "ax.set_xticks(range(4))\n",
    "ax.set_xticklabels(['Simple', 'Simple Laplace', 'Cruzada', 'Cruzada Laplace'])\n",
    "ax.set_ylim([0, 1])\n",
    "ax.set_ylabel('Error (menos mejor)')\n",
    "ax.set_title('Error dataset Tic-Tac-Toe')"
   ]
  },
  {
   "cell_type": "code",
   "execution_count": 78,
   "metadata": {},
   "outputs": [
    {
     "data": {
      "text/plain": [
       "<matplotlib.text.Text at 0x7fb90fd48e80>"
      ]
     },
     "execution_count": 78,
     "metadata": {},
     "output_type": "execute_result"
    },
    {
     "data": {
      "image/png": "[encoded data removed]",
      "text/plain": [
       "<matplotlib.figure.Figure at 0x7fb90fdb72e8>"
      ]
     },
     "metadata": {},
     "output_type": "display_data"
    }
   ],
   "source": [
    "import matplotlib.pyplot as plt\n",
    "%matplotlib inline\n",
    "ind = [error_german, error_german_laplace, error_german_cruzada, error_german_cruzada_laplace]\n",
    "fig, ax = plt.subplots()\n",
    "plt.bar(range(4), ind)\n",
    "ax.set_xticks(range(4))\n",
    "ax.set_xticklabels(['Simple', 'Simple Laplace', 'Cruzada', 'Cruzada Laplace'])\n",
    "ax.set_ylim([0, 1])\n",
    "ax.set_ylabel('Error (menos mejor)')\n",
    "ax.set_title('Error dataset German')"
   ]
  },
  {
   "cell_type": "markdown",
   "metadata": {},
   "source": [
    "### Apartado 3 Scikit"
   ]
  },
  {
   "cell_type": "code",
   "execution_count": 79,
   "metadata": {},
   "outputs": [],
   "source": [
    "from sklearn.naive_bayes import MultinomialNB, GaussianNB\n",
    "from sklearn.model_selection import train_test_split\n",
    "from sklearn import preprocessing \n",
    "from sklearn.model_selection import cross_val_score\n",
    "from sklearn.metrics import confusion_matrix\n",
    "from sklearn.model_selection import ShuffleSplit\n",
    "\n",
    "import itertools \n",
    "\n",
    "def plot_confusion_matrix(cm, classes,\n",
    "                          normalize=False,\n",
    "                          title='Confusion matrix',\n",
    "                          cmap=plt.cm.Blues):\n",
    "    \"\"\"\n",
    "    This function prints and plots the confusion matrix.\n",
    "    Normalization can be applied by setting `normalize=True`.\n",
    "    \"\"\"\n",
    "    if normalize:\n",
    "        cm = cm.astype('float') / cm.sum(axis=1)[:, np.newaxis]\n",
    "        print(\"Normalized confusion matrix\")\n",
    "    else:\n",
    "        print('Confusion matrix, without normalization')\n",
    "\n",
    "    print(cm)\n",
    "\n",
    "    plt.imshow(cm, interpolation='nearest', cmap=cmap)\n",
    "    plt.title(title)\n",
    "    plt.colorbar()\n",
    "    tick_marks = np.arange(len(classes))\n",
    "    plt.xticks(tick_marks, classes, rotation=45)\n",
    "    plt.yticks(tick_marks, classes)\n",
    "\n",
    "    fmt = '.2f' if normalize else 'd'\n",
    "    thresh = cm.max() / 2.\n",
    "    for i, j in itertools.product(range(cm.shape[0]), range(cm.shape[1])):\n",
    "        plt.text(j, i, format(cm[i, j], fmt),\n",
    "                 horizontalalignment=\"center\",\n",
    "                 color=\"white\" if cm[i, j] > thresh else \"black\")\n",
    "\n",
    "    plt.tight_layout()\n",
    "    plt.ylabel('True label')\n",
    "    plt.xlabel('Predicted label')\n"
   ]
  },
  {
   "cell_type": "markdown",
   "metadata": {},
   "source": [
    "#### Codificación de los atributos"
   ]
  },
  {
   "cell_type": "code",
   "execution_count": 81,
   "metadata": {},
   "outputs": [],
   "source": [
    "encAtributos = preprocessing.OneHotEncoder(categorical_features=dataset.nominalAtributos[:-1],sparse=False)\n",
    "X = encAtributos.fit_transform(dataset.datos[:,:-1])\n",
    "Y = dataset.datos[:,-1] \n",
    "class_names = sorted(dataset.diccionarios[-1].keys())\n",
    "X_train, X_test, Y_train, Y_test = train_test_split(X, Y, test_size=0.4, random_state=0)"
   ]
  }
 ],
 "metadata": {
  "kernelspec": {
   "display_name": "Python 3",
   "language": "python",
   "name": "python3"
  },
  "language_info": {
   "codemirror_mode": {
    "name": "ipython",
    "version": 3
   },
   "file_extension": ".py",
   "mimetype": "text/x-python",
   "name": "python",
   "nbconvert_exporter": "python",
   "pygments_lexer": "ipython3",
   "version": "3.6.2"
  }
 },
 "nbformat": 4,
 "nbformat_minor": 2
}
