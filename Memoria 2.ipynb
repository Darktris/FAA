{
 "cells": [
  {
   "cell_type": "markdown",
   "metadata": {},
   "source": [
    "# Fundamentos de Aprendizaje Automático"
   ]
  },
  {
   "cell_type": "markdown",
   "metadata": {},
   "source": [
    "\n",
    "## Práctica 2: kNN & Regresión Logística\n"
   ]
  },
  {
   "cell_type": "code",
   "execution_count": 7,
   "metadata": {},
   "outputs": [
    {
     "name": "stdout",
     "output_type": "stream",
     "text": [
      "The autoreload extension is already loaded. To reload it, use:\n",
      "  %reload_ext autoreload\n"
     ]
    }
   ],
   "source": [
    "# Imports globales\n",
    "%load_ext autoreload\n",
    "%autoreload 2\n",
    "%reload_ext autoreload\n",
    "\n",
    "import compileall\n",
    "import numpy as np\n",
    "import time\n",
    "import matplotlib.pyplot as plt\n",
    "\n",
    "compileall.compile_dir('.',force=True,quiet=True)\n",
    "\n",
    "from datos import Datos\n",
    "from estrategiasparticionado.validacion_cruzada import ValidacionCruzada\n",
    "from estrategiasparticionado.validacion_simple import ValidacionSimple\n",
    "from plotModel import plotModel\n",
    "\n",
    "%matplotlib inline"
   ]
  },
  {
   "cell_type": "markdown",
   "metadata": {},
   "source": [
    "## Apartado 1 \n",
    "### Resultados   de   la   clasificación   mediante   vecinos   próximos (implementación  original)  para  diferentes  valores  de  vecindad  en los   conjuntos   de   datos   propuestos.   Comparación   con los resultados proporcionados por scikit-learn. Obtener los resultados tanto para datos normalizados como sin normalizar. "
   ]
  },
  {
   "cell_type": "markdown",
   "metadata": {},
   "source": [
    "En primer lugar vamos a comparar el rendimiento de nuestro clasificador KNN con el clasificador implementado en scikit-learn.\n",
    "\n",
    "Comentar que nuestra implementación es considerablemente más lenta, dado que no se paraleliza el cálculo de distancias, que resulta ser la tarea más costosaen clasificación\n",
    "\n",
    "Vamos a hacer este experimento con ambos clasificadores para ordenes de vecindad K = 1, 3, 5, 11, 21 y 51, y con los conjuntos de datos example1.data, example2.data, example3.data y example4.data.\n",
    "\n",
    "El método de validación en todos los casos será validación simple."
   ]
  },
  {
   "cell_type": "code",
   "execution_count": null,
   "metadata": {
    "collapsed": true
   },
   "outputs": [],
   "source": [
    "Ks = [1,3,4,11,21,51]\n",
    "    \n",
    "for K in Ks:\n",
    "    for i in range(1, 5):\n",
    "        # Inicialización\n",
    "        nombre_fichero = './conjunto_datos/example%d.data' % i\n",
    "        dataset=Datos(nombre_fichero)\n",
    "        estrategia = ValidacionSimple()\n",
    "        estrategia.creaParticiones(dataset.datos)\n",
    "        \n",
    "        clasificador = ClasificadorVecinosProximos(K=K)\n",
    "        \n",
    "        # Validación implementación propia\n",
    "        res = clasificador.validacion(estrategia, dataset)\n",
    "        "
   ]
  },
  {
   "cell_type": "code",
   "execution_count": 9,
   "metadata": {
    "scrolled": false
   },
   "outputs": [
    {
     "ename": "KeyboardInterrupt",
     "evalue": "",
     "output_type": "error",
     "traceback": [
      "\u001b[0;31m---------------------------------------------------------------------------\u001b[0m",
      "\u001b[0;31mKeyboardInterrupt\u001b[0m                         Traceback (most recent call last)",
      "\u001b[0;32m<ipython-input-9-509ac25ecfb4>\u001b[0m in \u001b[0;36m<module>\u001b[0;34m()\u001b[0m\n\u001b[1;32m     16\u001b[0m \u001b[0;34m\u001b[0m\u001b[0m\n\u001b[1;32m     17\u001b[0m     plotModel(dataset.datos[ii,0], dataset.datos[ii,1], dataset.datos[ii,-1]!=0,\n\u001b[0;32m---> 18\u001b[0;31m               clasificador, nombre_fichero, dataset.diccionarios)\n\u001b[0m\u001b[1;32m     19\u001b[0m \u001b[0;34m\u001b[0m\u001b[0m\n\u001b[1;32m     20\u001b[0m     \u001b[0mplt\u001b[0m\u001b[0;34m.\u001b[0m\u001b[0mshow\u001b[0m\u001b[0;34m(\u001b[0m\u001b[0;34m)\u001b[0m\u001b[0;34m\u001b[0m\u001b[0m\n",
      "\u001b[0;32m/home/senoroscuro95/workspace/FAA/plotModel.py\u001b[0m in \u001b[0;36mplotModel\u001b[0;34m(x, y, clase, clf, title, diccionarios)\u001b[0m\n\u001b[1;32m     19\u001b[0m \u001b[0;34m\u001b[0m\u001b[0m\n\u001b[1;32m     20\u001b[0m     \u001b[0;32mif\u001b[0m \u001b[0misinstance\u001b[0m\u001b[0;34m(\u001b[0m\u001b[0mclf\u001b[0m\u001b[0;34m,\u001b[0m \u001b[0mClasificador\u001b[0m\u001b[0;34m.\u001b[0m\u001b[0mClasificador\u001b[0m\u001b[0;34m)\u001b[0m\u001b[0;34m:\u001b[0m\u001b[0;34m\u001b[0m\u001b[0m\n\u001b[0;32m---> 21\u001b[0;31m         \u001b[0mz\u001b[0m \u001b[0;34m=\u001b[0m \u001b[0mclf\u001b[0m\u001b[0;34m.\u001b[0m\u001b[0mclasifica\u001b[0m\u001b[0;34m(\u001b[0m\u001b[0mnp\u001b[0m\u001b[0;34m.\u001b[0m\u001b[0mc_\u001b[0m\u001b[0;34m[\u001b[0m\u001b[0mxx\u001b[0m\u001b[0;34m.\u001b[0m\u001b[0mravel\u001b[0m\u001b[0;34m(\u001b[0m\u001b[0;34m)\u001b[0m\u001b[0;34m,\u001b[0m \u001b[0myy\u001b[0m\u001b[0;34m.\u001b[0m\u001b[0mravel\u001b[0m\u001b[0;34m(\u001b[0m\u001b[0;34m)\u001b[0m\u001b[0;34m]\u001b[0m\u001b[0;34m,\u001b[0m \u001b[0;34m[\u001b[0m\u001b[0;32mFalse\u001b[0m\u001b[0;34m,\u001b[0m \u001b[0;32mFalse\u001b[0m\u001b[0;34m,\u001b[0m \u001b[0;32mTrue\u001b[0m\u001b[0;34m]\u001b[0m\u001b[0;34m,\u001b[0m \u001b[0mdiccionarios\u001b[0m\u001b[0;34m)\u001b[0m\u001b[0;34m\u001b[0m\u001b[0m\n\u001b[0m\u001b[1;32m     22\u001b[0m         \u001b[0mprint\u001b[0m\u001b[0;34m(\u001b[0m\u001b[0;34m\"tramo1:\"\u001b[0m\u001b[0;34m,\u001b[0m \u001b[0mclf\u001b[0m\u001b[0;34m.\u001b[0m\u001b[0mtramo_1\u001b[0m\u001b[0;34m)\u001b[0m\u001b[0;34m\u001b[0m\u001b[0m\n\u001b[1;32m     23\u001b[0m         \u001b[0mprint\u001b[0m\u001b[0;34m(\u001b[0m\u001b[0;34m\"tramo2:\"\u001b[0m\u001b[0;34m,\u001b[0m \u001b[0mclf\u001b[0m\u001b[0;34m.\u001b[0m\u001b[0mtramo_2\u001b[0m\u001b[0;34m)\u001b[0m\u001b[0;34m\u001b[0m\u001b[0m\n",
      "\u001b[0;32m/home/senoroscuro95/workspace/FAA/clasificadores/clasificador_vecinos_proximos.py\u001b[0m in \u001b[0;36mclasifica\u001b[0;34m(self, datosTest, atributosDiscretos, diccionario)\u001b[0m\n\u001b[1;32m     38\u001b[0m \u001b[0;34m\u001b[0m\u001b[0m\n\u001b[1;32m     39\u001b[0m     \u001b[0;32mdef\u001b[0m \u001b[0mclasifica\u001b[0m\u001b[0;34m(\u001b[0m\u001b[0mself\u001b[0m\u001b[0;34m,\u001b[0m \u001b[0mdatosTest\u001b[0m\u001b[0;34m,\u001b[0m \u001b[0matributosDiscretos\u001b[0m\u001b[0;34m,\u001b[0m \u001b[0mdiccionario\u001b[0m\u001b[0;34m)\u001b[0m\u001b[0;34m:\u001b[0m\u001b[0;34m\u001b[0m\u001b[0m\n\u001b[0;32m---> 40\u001b[0;31m         \u001b[0;32mreturn\u001b[0m \u001b[0mnp\u001b[0m\u001b[0;34m.\u001b[0m\u001b[0mfromiter\u001b[0m\u001b[0;34m(\u001b[0m\u001b[0mmap\u001b[0m\u001b[0;34m(\u001b[0m\u001b[0;32mlambda\u001b[0m \u001b[0mrecord\u001b[0m\u001b[0;34m:\u001b[0m \u001b[0mself\u001b[0m\u001b[0;34m.\u001b[0m\u001b[0m__clasifica_uno__\u001b[0m\u001b[0;34m(\u001b[0m\u001b[0mrecord\u001b[0m\u001b[0;34m)\u001b[0m\u001b[0;34m,\u001b[0m \u001b[0mdatosTest\u001b[0m\u001b[0;34m)\u001b[0m\u001b[0;34m,\u001b[0m \u001b[0mdtype\u001b[0m\u001b[0;34m=\u001b[0m\u001b[0mfloat\u001b[0m\u001b[0;34m)\u001b[0m\u001b[0;34m\u001b[0m\u001b[0m\n\u001b[0m\u001b[1;32m     41\u001b[0m \u001b[0;34m\u001b[0m\u001b[0m\n\u001b[1;32m     42\u001b[0m     \u001b[0;32mdef\u001b[0m \u001b[0m__clasifica_uno__\u001b[0m\u001b[0;34m(\u001b[0m\u001b[0mself\u001b[0m\u001b[0;34m,\u001b[0m \u001b[0mdatoTest\u001b[0m\u001b[0;34m)\u001b[0m\u001b[0;34m:\u001b[0m\u001b[0;34m\u001b[0m\u001b[0m\n",
      "\u001b[0;32m/home/senoroscuro95/workspace/FAA/clasificadores/clasificador_vecinos_proximos.py\u001b[0m in \u001b[0;36m<lambda>\u001b[0;34m(record)\u001b[0m\n\u001b[1;32m     38\u001b[0m \u001b[0;34m\u001b[0m\u001b[0m\n\u001b[1;32m     39\u001b[0m     \u001b[0;32mdef\u001b[0m \u001b[0mclasifica\u001b[0m\u001b[0;34m(\u001b[0m\u001b[0mself\u001b[0m\u001b[0;34m,\u001b[0m \u001b[0mdatosTest\u001b[0m\u001b[0;34m,\u001b[0m \u001b[0matributosDiscretos\u001b[0m\u001b[0;34m,\u001b[0m \u001b[0mdiccionario\u001b[0m\u001b[0;34m)\u001b[0m\u001b[0;34m:\u001b[0m\u001b[0;34m\u001b[0m\u001b[0m\n\u001b[0;32m---> 40\u001b[0;31m         \u001b[0;32mreturn\u001b[0m \u001b[0mnp\u001b[0m\u001b[0;34m.\u001b[0m\u001b[0mfromiter\u001b[0m\u001b[0;34m(\u001b[0m\u001b[0mmap\u001b[0m\u001b[0;34m(\u001b[0m\u001b[0;32mlambda\u001b[0m \u001b[0mrecord\u001b[0m\u001b[0;34m:\u001b[0m \u001b[0mself\u001b[0m\u001b[0;34m.\u001b[0m\u001b[0m__clasifica_uno__\u001b[0m\u001b[0;34m(\u001b[0m\u001b[0mrecord\u001b[0m\u001b[0;34m)\u001b[0m\u001b[0;34m,\u001b[0m \u001b[0mdatosTest\u001b[0m\u001b[0;34m)\u001b[0m\u001b[0;34m,\u001b[0m \u001b[0mdtype\u001b[0m\u001b[0;34m=\u001b[0m\u001b[0mfloat\u001b[0m\u001b[0;34m)\u001b[0m\u001b[0;34m\u001b[0m\u001b[0m\n\u001b[0m\u001b[1;32m     41\u001b[0m \u001b[0;34m\u001b[0m\u001b[0m\n\u001b[1;32m     42\u001b[0m     \u001b[0;32mdef\u001b[0m \u001b[0m__clasifica_uno__\u001b[0m\u001b[0;34m(\u001b[0m\u001b[0mself\u001b[0m\u001b[0;34m,\u001b[0m \u001b[0mdatoTest\u001b[0m\u001b[0;34m)\u001b[0m\u001b[0;34m:\u001b[0m\u001b[0;34m\u001b[0m\u001b[0m\n",
      "\u001b[0;32m/home/senoroscuro95/workspace/FAA/clasificadores/clasificador_vecinos_proximos.py\u001b[0m in \u001b[0;36m__clasifica_uno__\u001b[0;34m(self, datoTest)\u001b[0m\n\u001b[1;32m     48\u001b[0m         \u001b[0;31m# distancias = pool.map(__C__(datoTest), self.datos_normalizados_train)\u001b[0m\u001b[0;34m\u001b[0m\u001b[0;34m\u001b[0m\u001b[0m\n\u001b[1;32m     49\u001b[0m         distancias = np.fromiter(map(lambda ejemplo: __distancia__(ejemplo, datoTest), self.datos_normalizados_train),\n\u001b[0;32m---> 50\u001b[0;31m                                  dtype=float)\n\u001b[0m\u001b[1;32m     51\u001b[0m \u001b[0;34m\u001b[0m\u001b[0m\n\u001b[1;32m     52\u001b[0m         \u001b[0mstep_1\u001b[0m \u001b[0;34m=\u001b[0m \u001b[0mtime\u001b[0m\u001b[0;34m.\u001b[0m\u001b[0mclock\u001b[0m\u001b[0;34m(\u001b[0m\u001b[0;34m)\u001b[0m\u001b[0;34m\u001b[0m\u001b[0m\n",
      "\u001b[0;32m/home/senoroscuro95/workspace/FAA/clasificadores/clasificador_vecinos_proximos.py\u001b[0m in \u001b[0;36m<lambda>\u001b[0;34m(ejemplo)\u001b[0m\n\u001b[1;32m     47\u001b[0m         \u001b[0;31m# Fancy optimization :(\u001b[0m\u001b[0;34m\u001b[0m\u001b[0;34m\u001b[0m\u001b[0m\n\u001b[1;32m     48\u001b[0m         \u001b[0;31m# distancias = pool.map(__C__(datoTest), self.datos_normalizados_train)\u001b[0m\u001b[0;34m\u001b[0m\u001b[0;34m\u001b[0m\u001b[0m\n\u001b[0;32m---> 49\u001b[0;31m         distancias = np.fromiter(map(lambda ejemplo: __distancia__(ejemplo, datoTest), self.datos_normalizados_train),\n\u001b[0m\u001b[1;32m     50\u001b[0m                                  dtype=float)\n\u001b[1;32m     51\u001b[0m \u001b[0;34m\u001b[0m\u001b[0m\n",
      "\u001b[0;31mKeyboardInterrupt\u001b[0m: "
     ]
    },
    {
     "data": {
      "text/plain": [
       "<matplotlib.figure.Figure at 0x7ffb18eebdd8>"
      ]
     },
     "metadata": {},
     "output_type": "display_data"
    }
   ],
   "source": [
    "from clasificadores.clasificador_vecinos_proximos import ClasificadorVecinosProximos\n",
    "\n",
    "start = time.clock()\n",
    "\n",
    "clasificador = ClasificadorVecinosProximos()\n",
    "\n",
    "for i in range(1, 5):\n",
    "    nombre_fichero = './conjunto_datos/example%d.data' % i\n",
    "    \n",
    "    dataset=Datos(nombre_fichero)\n",
    "    estrategia = ValidacionSimple()\n",
    "    estrategia.creaParticiones(dataset.datos)\n",
    "    res = clasificador.validacion(estrategia, dataset)\n",
    "    ii = estrategia.particiones[-1].indicesTrain\n",
    "    plt.figure()\n",
    "    \n",
    "    plotModel(dataset.datos[ii,0], dataset.datos[ii,1], dataset.datos[ii,-1]!=0,\n",
    "              clasificador, nombre_fichero, dataset.diccionarios)\n",
    "    \n",
    "    plt.show()\n",
    "    print('Error de ./conjunto_datos/example%d.data: %s'% (i, clasificador.errores[0]))\n",
    "    \n",
    "print(\"Tiempo total: %2.3f\" % (time.clock()-start))"
   ]
  },
  {
   "cell_type": "markdown",
   "metadata": {},
   "source": [
    "#### Implementación de scikit"
   ]
  },
  {
   "cell_type": "code",
   "execution_count": null,
   "metadata": {
    "collapsed": true
   },
   "outputs": [],
   "source": [
    "from sklearn.neighbors import KNeighborsClassifier\n",
    "from sklearn.model_selection import train_test_split\n",
    "from sklearn import preprocessing \n",
    "from sklearn.model_selection import cross_val_score\n",
    "from sklearn.metrics import confusion_matrix\n",
    "from sklearn.model_selection import ShuffleSplit\n",
    "from matplotlib.colors import ListedColormap\n",
    "\n",
    "start = time.clock()\n",
    "for i in range(1, 5):\n",
    "    nombre_fichero = './conjunto_datos/example%d.data' % i\n",
    "    dataset=Datos(nombre_fichero)\n",
    "    estrategia = ValidacionSimple()\n",
    "    X = dataset.datos[:,:-1]\n",
    "    Y = dataset.datos[:,-1]\n",
    "\n",
    "    Y = dataset.datos[:,-1] \n",
    "    class_names = sorted(dataset.diccionarios[-1].keys())\n",
    "    X_train, X_test, Y_train, Y_test = train_test_split(X, Y, test_size=0.25, random_state=29)\n",
    "\n",
    "\n",
    "    model = KNeighborsClassifier(n_neighbors=5,p=2,algorithm='brute')\n",
    "    model.fit(X_train, Y_train)\n",
    "\n",
    "    h = .02\n",
    "    x_min, x_max = X[:, 0].min() - .5, X[:, 0].max() + .5\n",
    "    y_min, y_max = X[:, 1].min() - .5, X[:, 1].max() + .5\n",
    "    xx, yy = np.meshgrid(np.arange(x_min, x_max, h), np.arange(y_min, y_max, h))\n",
    "    Z = model.predict(np.c_[xx.ravel(), yy.ravel()])\n",
    "    \n",
    "    # Put the result into a color plot\n",
    "    Z = Z.reshape(xx.shape)\n",
    "    plt.figure(1, figsize=(4, 3))\n",
    "    cm = plt.cm.RdBu\n",
    "    cm_bright = ListedColormap(['#FF0000', '#0000FF'])\n",
    "    plt.pcolormesh(xx, yy, Z, cmap=cm, alpha=0.8)\n",
    "\n",
    "    # Plot also the training points\n",
    "    plt.scatter(X[:, 0], X[:, 1], c=Y, edgecolors='k', cmap=cm_bright)\n",
    "    plt.xlabel('X')\n",
    "    plt.ylabel('Y')\n",
    "    plt.title(nombre_fichero)\n",
    "    \n",
    "    plt.xlim(xx.min(), xx.max())\n",
    "    plt.ylim(yy.min(), yy.max())\n",
    "    plt.xticks(())\n",
    "    plt.yticks(())\n",
    "\n",
    "    plt.show()\n",
    "\n",
    "    model.fit(X_train, Y_train)\n",
    "    score = model.score(X_test, Y_test)\n",
    "    print(\"Validación simple. Error: %0.2f\" % (1-score))\n",
    "    print(\"Tiempo:\",time.clock() - step)\n",
    "    \n",
    "print(\"Tiempo total: %2.3f\" % (time.clock()-start))"
   ]
  },
  {
   "cell_type": "markdown",
   "metadata": {},
   "source": [
    "### Apartado b) Regresión logística\n",
    "#### Implementación propia"
   ]
  },
  {
   "cell_type": "code",
   "execution_count": null,
   "metadata": {
    "collapsed": true
   },
   "outputs": [],
   "source": [
    "from clasificadores.clasificador_regresion_logistica import ClasificadorRegresionLogistica\n",
    "\n",
    "start = time.clock()\n",
    "clasificador = ClasificadorRegresionLogistica()\n",
    "\n",
    "for i in range(1, 5):\n",
    "    step = time.clock()\n",
    "    nombre_fichero = './conjunto_datos/example%d.data' % i\n",
    "    dataset=Datos(nombre_fichero)\n",
    "    estrategia = ValidacionSimple()\n",
    "    res = clasificador.validacion(estrategia, dataset)\n",
    "    estrategia.creaParticiones(dataset.datos)\n",
    "    ii = estrategia.particiones[-1].indicesTrain\n",
    "    plt.figure()\n",
    "    plotModel(dataset.datos[ii,0], dataset.datos[ii,1], dataset.datos[ii,-1]!=0,\n",
    "              clasificador, nombre_fichero, dataset.diccionarios)\n",
    "    plt.show()\n",
    "    print('Error de ./conjunto_datos/example%d.data: %s'% (i, clasificador.errores[0]))\n",
    "    print(\"Tiempo:\",time.clock() - step)\n",
    "    \n",
    "print(\"Tiempo total: %2.3f\" % (time.clock()-start))\n",
    "\n"
   ]
  },
  {
   "cell_type": "markdown",
   "metadata": {},
   "source": [
    "#### Implementación de scikit"
   ]
  },
  {
   "cell_type": "code",
   "execution_count": null,
   "metadata": {
    "collapsed": true
   },
   "outputs": [],
   "source": [
    "from sklearn.linear_model import LogisticRegression\n",
    "from sklearn.model_selection import train_test_split\n",
    "from sklearn import preprocessing \n",
    "from sklearn.model_selection import cross_val_score\n",
    "from sklearn.metrics import confusion_matrix\n",
    "from sklearn.model_selection import ShuffleSplit\n",
    "from matplotlib.colors import ListedColormap\n",
    "\n",
    "start = time.clock()\n",
    "\n",
    "for i in range(1, 5):\n",
    "    step = time.clock()\n",
    "    nombre_fichero = './conjunto_datos/example%d.data' % i\n",
    "    dataset=Datos(nombre_fichero)\n",
    "    estrategia = ValidacionSimple()\n",
    "    X = dataset.datos[:,:-1]\n",
    "    Y = dataset.datos[:,-1]\n",
    "\n",
    "    Y = dataset.datos[:,-1] \n",
    "    class_names = sorted(dataset.diccionarios[-1].keys())\n",
    "    X_train, X_test, Y_train, Y_test = train_test_split(X, Y, test_size=0.25, random_state=29)\n",
    "\n",
    "\n",
    "    model = LogisticRegression(C=1e5)\n",
    "    model.fit(X_train, Y_train)\n",
    "\n",
    "    h = .02\n",
    "    x_min, x_max = X[:, 0].min() - .5, X[:, 0].max() + .5\n",
    "    y_min, y_max = X[:, 1].min() - .5, X[:, 1].max() + .5\n",
    "    xx, yy = np.meshgrid(np.arange(x_min, x_max, h), np.arange(y_min, y_max, h))\n",
    "    Z = model.predict(np.c_[xx.ravel(), yy.ravel()])\n",
    "    # Put the result into a color plot\n",
    "    Z = Z.reshape(xx.shape)\n",
    "    plt.figure(1, figsize=(4, 3))\n",
    "    cm = plt.cm.RdBu\n",
    "    cm_bright = ListedColormap(['#FF0000', '#0000FF'])\n",
    "    plt.pcolormesh(xx, yy, Z, cmap=cm, alpha=0.8)\n",
    "\n",
    "    # Plot also the training points\n",
    "    plt.scatter(X[:, 0], X[:, 1], c=Y, edgecolors='k', cmap=cm_bright)\n",
    "    plt.xlabel('X')\n",
    "    plt.ylabel('Y')\n",
    "    plt.title(nombre_fichero)\n",
    "    \n",
    "    plt.xlim(xx.min(), xx.max())\n",
    "    plt.ylim(yy.min(), yy.max())\n",
    "    plt.xticks(())\n",
    "    plt.yticks(())\n",
    "\n",
    "    plt.show()\n",
    "\n",
    "    model.fit(X_train, Y_train)\n",
    "    score = model.score(X_test, Y_test)\n",
    "    print(\"Validación simple. Error: %0.2f\" % (1-score))\n",
    "    print(\"Tiempo:\",time.clock() - step)\n",
    "    \n",
    "print(\"Tiempo total: %2.3f\" % (time.clock()-start))"
   ]
  },
  {
   "cell_type": "markdown",
   "metadata": {},
   "source": [
    "#### Comentario sobre los resultados\n",
    "Se observa como para los dataset 1, 2 y 3, como no se puede separar los conjuntos por una frontera lineal, el error es bastante alto y la frontera lineal es la máxima posible dada la limitación de la frontera lineal."
   ]
  }
 ],
 "metadata": {
  "kernelspec": {
   "display_name": "Python 3",
   "language": "python",
   "name": "python3"
  },
  "language_info": {
   "codemirror_mode": {
    "name": "ipython",
    "version": 3
   },
   "file_extension": ".py",
   "mimetype": "text/x-python",
   "name": "python",
   "nbconvert_exporter": "python",
   "pygments_lexer": "ipython3",
   "version": "3.6.1"
  }
 },
 "nbformat": 4,
 "nbformat_minor": 2
}
