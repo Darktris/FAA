{
 "cells": [
  {
   "cell_type": "markdown",
   "metadata": {},
   "source": [
    "# Práctica 1 Validación simple y cruzada y Naive-Bayes\n",
    "## Validación cruzada y simple\n",
    "En esta práctica se han implementado dos estrategias de validación:\n",
    "\n",
    "* Validación simple: el conjunto de datos se divide en dos subconjuntos, entrenamiento y test según un porcentaje configurable. Se realiza un shuffle previo a los datos para evitar sesgos en las particiones."
   ]
  },
  {
   "cell_type": "code",
   "execution_count": 1,
   "metadata": {},
   "outputs": [
    {
     "name": "stdout",
     "output_type": "stream",
     "text": [
      "Partición 1\n",
      "Entrenamiento:  [830 127 836 744 377 128 543 847 150  18 459 306 869  32 931] ...\n",
      "Validación [400  41 232 731 145  85  68 480 646 242  73 539 812 917 382] ...\n"
     ]
    }
   ],
   "source": [
    "import numpy as np\n",
    "from datos import Datos\n",
    "from estrategiasparticionado.validacion_simple import ValidacionSimple\n",
    "dataset=Datos('./conjunto_datos/tic-tac-toe.data')\n",
    "dataset2=Datos('./conjunto_datos/german.data')\n",
    "\n",
    "validacionSimple = ValidacionSimple()\n",
    "validacionSimple.porcentajeEntrenamiento = 0.7 # Valor por defecto\n",
    "validacionSimple.creaParticiones(dataset.datos)\n",
    "for k, particion in enumerate(validacionSimple.particiones):\n",
    "    print('Partición', k+1)\n",
    "    print('Entrenamiento: ', particion.indicesTrain[:15], '...')\n",
    "    print('Validación', particion.indicesTest[:15], '...')"
   ]
  },
  {
   "cell_type": "markdown",
   "metadata": {},
   "source": [
    "* Validación cruzada: se crean K-folds, esto es K particiones de los datos para entrenamiento y test. Cada partición j tendrá a la j-ésima partición como test y el resto para entrenamiento."
   ]
  },
  {
   "cell_type": "code",
   "execution_count": 2,
   "metadata": {},
   "outputs": [
    {
     "name": "stdout",
     "output_type": "stream",
     "text": [
      "Partición 1\n",
      "Entrenamiento:  [661 106 861 134 848 143 719 545 196 313   7 138 617 672  81] ...\n",
      "Validación [175 105 466 549  25 279 933 404 877 314  71 177 178 357 384] ...\n",
      "Partición 2\n",
      "Entrenamiento:  [175 105 466 549  25 279 933 404 877 314  71 177 178 357 384] ...\n",
      "Validación [661 106 861 134 848 143 719 545 196 313   7 138 617 672  81] ...\n",
      "Partición 3\n",
      "Entrenamiento:  [175 105 466 549  25 279 933 404 877 314  71 177 178 357 384] ...\n",
      "Validación [667 458  55 540 150 654 153 523 536 821 123 231 749 181  85] ...\n",
      "Partición 4\n",
      "Entrenamiento:  [175 105 466 549  25 279 933 404 877 314  71 177 178 357 384] ...\n",
      "Validación [716 875 619 696 623 399 625 249 350 318  32 755 114 663 375] ...\n",
      "Partición 5\n",
      "Entrenamiento:  [175 105 466 549  25 279 933 404 877 314  71 177 178 357 384] ...\n",
      "Validación [308  88 794 293 388 420 121 765 333 477 264 913 548 410 615] ...\n",
      "Partición 6\n",
      "Entrenamiento:  [175 105 466 549  25 279 933 404 877 314  71 177 178 357 384] ...\n",
      "Validación [579 924 307 681 930 565 853 524 259 851 611 499 588 872 289] ...\n",
      "Partición 7\n",
      "Entrenamiento:  [175 105 466 549  25 279 933 404 877 314  71 177 178 357 384] ...\n",
      "Validación [569 859 630 270 628 741 252 742  89 956 878 440 473 389  42] ...\n",
      "Partición 8\n",
      "Entrenamiento:  [175 105 466 549  25 279 933 404 877 314  71 177 178 357 384] ...\n",
      "Validación [581 674 385 653 498 335 703 229 520 147 115 208 192 210   2] ...\n",
      "Partición 9\n",
      "Entrenamiento:  [175 105 466 549  25 279 933 404 877 314  71 177 178 357 384] ...\n",
      "Validación [ 60 547 296 300 537 612  62 876 142 553 301 860 662 241 461] ...\n",
      "Partición 10\n",
      "Entrenamiento:  [175 105 466 549  25 279 933 404 877 314  71 177 178 357 384] ...\n",
      "Validación [110 561 644 646  73 729 117 337 450 330 323 387 534 515 814] ...\n"
     ]
    }
   ],
   "source": [
    "from estrategiasparticionado.validacion_cruzada import ValidacionCruzada\n",
    "\n",
    "validacionCruzada = ValidacionCruzada()\n",
    "validacionCruzada.nfolds = 10 # Valor por defecto\n",
    "validacionCruzada.creaParticiones(dataset.datos)\n",
    "for k, particion in enumerate(validacionCruzada.particiones):\n",
    "    print('Partición', k+1)\n",
    "    print('Entrenamiento: ', particion.indicesTrain[:15], '...')\n",
    "    print('Validación', particion.indicesTest[:15], '...')\n"
   ]
  },
  {
   "cell_type": "markdown",
   "metadata": {},
   "source": [
    "## Apartado 1: Naive-Bayes\n",
    "A continuación se muestra para cada uno de los datasets los errores de predicción con o sin la corrección de Laplace\n",
    "### tic-tac-toe validación simple sin Laplace"
   ]
  },
  {
   "cell_type": "code",
   "execution_count": 3,
   "metadata": {},
   "outputs": [
    {
     "name": "stdout",
     "output_type": "stream",
     "text": [
      "Error: [0.2791044776119403]\n"
     ]
    }
   ],
   "source": [
    "from clasificadores.clasificador_naive_bayes import ClasificadorNaiveBayes\n",
    "clasificador = ClasificadorNaiveBayes()\n",
    "clasificador.laplace_smoothing = 0.0\n",
    "clasificador.validacion(validacionSimple, dataset)\n",
    "print('Error:', clasificador.errores)\n",
    "error_tic = clasificador.errores[0]"
   ]
  },
  {
   "cell_type": "markdown",
   "metadata": {},
   "source": [
    "### tic-tac-toe validación simple con Laplace"
   ]
  },
  {
   "cell_type": "code",
   "execution_count": 4,
   "metadata": {},
   "outputs": [
    {
     "name": "stdout",
     "output_type": "stream",
     "text": [
      "Error: [0.28507462686567164]\n"
     ]
    }
   ],
   "source": [
    "clasificador = ClasificadorNaiveBayes()\n",
    "clasificador.laplace_smoothing = 1.0\n",
    "clasificador.validacion(validacionSimple, dataset)\n",
    "print('Error:', clasificador.errores)\n",
    "error_tic_laplace = clasificador.errores[0]"
   ]
  },
  {
   "cell_type": "markdown",
   "metadata": {},
   "source": [
    "### tic-tac-toe validación cruzada sin Laplace"
   ]
  },
  {
   "cell_type": "code",
   "execution_count": 5,
   "metadata": {},
   "outputs": [
    {
     "name": "stdout",
     "output_type": "stream",
     "text": [
      "Errores: [0.29466357308584684, 0.3062645011600928, 0.308584686774942, 0.29582366589327147, 0.2842227378190255, 0.29582366589327147, 0.2865429234338747, 0.2877030162412993, 0.2931633835457706, 0.2931633835457706]\n",
      "Error: 0.2946 +- 0.0150\n"
     ]
    }
   ],
   "source": [
    "clasificador = ClasificadorNaiveBayes()\n",
    "clasificador.laplace_smoothing = 0.0\n",
    "clasificador.validacion(validacionCruzada, dataset)\n",
    "print('Errores:', clasificador.errores)\n",
    "print('Error: %.4f +- %.4f' % (np.mean(clasificador.errores), 2*np.std(clasificador.errores)))\n",
    "error_tic_cruzada = np.mean(clasificador.errores)"
   ]
  },
  {
   "cell_type": "markdown",
   "metadata": {},
   "source": [
    "### tic-tac-toe validación cruzada con Laplace"
   ]
  },
  {
   "cell_type": "code",
   "execution_count": 6,
   "metadata": {},
   "outputs": [
    {
     "name": "stdout",
     "output_type": "stream",
     "text": [
      "Errores: [0.2691415313225058, 0.2865429234338747, 0.29698375870069604, 0.3051044083526682, 0.2865429234338747, 0.27958236658932717, 0.2853828306264501, 0.29118329466357307, 0.2862108922363847, 0.2862108922363847]\n",
      "Error: 0.2873 +- 0.0181\n"
     ]
    }
   ],
   "source": [
    "clasificador = ClasificadorNaiveBayes()\n",
    "clasificador.laplace_smoothing = 1.0\n",
    "clasificador.validacion(validacionCruzada, dataset)\n",
    "print('Errores:', clasificador.errores)\n",
    "print('Error: %.4f +- %.4f' % (np.mean(clasificador.errores), 2*np.std(clasificador.errores)))\n",
    "error_tic_cruzada_laplace = np.mean(clasificador.errores)"
   ]
  },
  {
   "cell_type": "markdown",
   "metadata": {},
   "source": [
    "### german validacion simple sin Laplace"
   ]
  },
  {
   "cell_type": "code",
   "execution_count": 7,
   "metadata": {},
   "outputs": [
    {
     "name": "stdout",
     "output_type": "stream",
     "text": [
      "Error: [0.24142857142857144]\n"
     ]
    }
   ],
   "source": [
    "clasificador = ClasificadorNaiveBayes()\n",
    "clasificador.laplace_smoothing = 0.0\n",
    "clasificador.validacion(validacionSimple, dataset2)\n",
    "print('Error:', clasificador.errores)\n",
    "error_german = clasificador.errores[0]"
   ]
  },
  {
   "cell_type": "markdown",
   "metadata": {},
   "source": [
    "### german validacion simple con Laplace"
   ]
  },
  {
   "cell_type": "code",
   "execution_count": 8,
   "metadata": {},
   "outputs": [
    {
     "name": "stdout",
     "output_type": "stream",
     "text": [
      "Error: [0.2357142857142857]\n"
     ]
    }
   ],
   "source": [
    "clasificador = ClasificadorNaiveBayes()\n",
    "clasificador.laplace_smoothing = 1.0\n",
    "clasificador.validacion(validacionSimple, dataset2)\n",
    "print('Error:', clasificador.errores)\n",
    "error_german_laplace = clasificador.errores[0]"
   ]
  },
  {
   "cell_type": "markdown",
   "metadata": {},
   "source": [
    "### german validacion cruzada sin Laplace"
   ]
  },
  {
   "cell_type": "code",
   "execution_count": 9,
   "metadata": {},
   "outputs": [
    {
     "name": "stdout",
     "output_type": "stream",
     "text": [
      "Errores: [0.24333333333333335, 0.23666666666666666, 0.24, 0.23666666666666666, 0.2477777777777778, 0.24222222222222223, 0.23777777777777778, 0.23555555555555555, 0.23666666666666666, 0.22111111111111112]\n",
      "Error: 0.2378 +- 0.0133\n"
     ]
    }
   ],
   "source": [
    "clasificador = ClasificadorNaiveBayes()\n",
    "clasificador.laplace_smoothing = 0.0\n",
    "clasificador.validacion(validacionCruzada, dataset2)\n",
    "print('Errores:', clasificador.errores)\n",
    "print('Error: %.4f +- %.4f' % (np.mean(clasificador.errores), 2*np.std(clasificador.errores)))\n",
    "error_german_cruzada = np.mean(clasificador.errores)"
   ]
  },
  {
   "cell_type": "markdown",
   "metadata": {},
   "source": [
    "### german validacion cruzada con Laplace"
   ]
  },
  {
   "cell_type": "code",
   "execution_count": 10,
   "metadata": {},
   "outputs": [
    {
     "name": "stdout",
     "output_type": "stream",
     "text": [
      "Errores: [0.23, 0.23333333333333334, 0.24444444444444444, 0.23333333333333334, 0.24222222222222223, 0.23444444444444446, 0.23444444444444446, 0.24222222222222223, 0.24555555555555555, 0.2311111111111111]\n",
      "Error: 0.2371 +- 0.0111\n"
     ]
    }
   ],
   "source": [
    "clasificador = ClasificadorNaiveBayes()\n",
    "clasificador.laplace_smoothing = 1.0\n",
    "clasificador.validacion(validacionCruzada, dataset2)\n",
    "print('Errores:', clasificador.errores)\n",
    "print('Error: %.4f +- %.4f' % (np.mean(clasificador.errores), 2*np.std(clasificador.errores)))\n",
    "error_german_cruzada_laplace = np.mean(clasificador.errores)"
   ]
  },
  {
   "cell_type": "markdown",
   "metadata": {},
   "source": [
    "### Apartado 2 Análisis\n",
    "Los resultados obtenidos son satisfactorios con errores entre el 20% y el 30% dependiendo del dataset. En concreto, en el dataset de *tic-tac-toe* la corrección de Laplace aporta un valor añadido ya que hay muchas particiones en las que faltan datos de una clase y esto provoca una predicción erronea. En el dataset de *german*, por otro lado, solo parece aportar ruído ya que esto no parece afectar a la predicción.\n",
    "\n",
    "En general se ve que la validación cruzada obtiene un error medio menor, ya que dentro de la muestra se ven valores a veces muy bajos o a veces muy altos. (stddev = 5%)"
   ]
  },
  {
   "cell_type": "code",
   "execution_count": 11,
   "metadata": {},
   "outputs": [
    {
     "data": {
      "text/plain": [
       "<matplotlib.text.Text at 0x7f0744b3a780>"
      ]
     },
     "execution_count": 11,
     "metadata": {},
     "output_type": "execute_result"
    },
    {
     "data": {
      "image/png": "[encoded data removed]",
      "text/plain": [
       "<matplotlib.figure.Figure at 0x7f074ac19978>"
      ]
     },
     "metadata": {},
     "output_type": "display_data"
    }
   ],
   "source": [
    "import matplotlib.pyplot as plt\n",
    "%matplotlib inline\n",
    "ind = [error_tic, error_tic_laplace, error_tic_cruzada, error_tic_cruzada_laplace]\n",
    "fig, ax = plt.subplots()\n",
    "plt.bar(range(4), ind)\n",
    "ax.set_xticks(range(4))\n",
    "ax.set_xticklabels(['Simple', 'Simple Laplace', 'Cruzada', 'Cruzada Laplace'])\n",
    "ax.set_ylabel('Error (menos mejor)')\n",
    "ax.set_title('Error dataset Tic-Tac-Toe')"
   ]
  },
  {
   "cell_type": "code",
   "execution_count": 12,
   "metadata": {},
   "outputs": [
    {
     "data": {
      "text/plain": [
       "<matplotlib.text.Text at 0x7f0744a13d68>"
      ]
     },
     "execution_count": 12,
     "metadata": {},
     "output_type": "execute_result"
    },
    {
     "data": {
      "image/png": "[encoded data removed]",
      "text/plain": [
       "<matplotlib.figure.Figure at 0x7f074a326780>"
      ]
     },
     "metadata": {},
     "output_type": "display_data"
    }
   ],
   "source": [
    "import matplotlib.pyplot as plt\n",
    "%matplotlib inline\n",
    "ind = [error_german, error_german_laplace, error_german_cruzada, error_german_cruzada_laplace]\n",
    "fig, ax = plt.subplots()\n",
    "plt.bar(range(4), ind)\n",
    "ax.set_xticks(range(4))\n",
    "ax.set_xticklabels(['Simple', 'Simple Laplace', 'Cruzada', 'Cruzada Laplace'])\n",
    "ax.set_ylabel('Error (menos mejor)')\n",
    "ax.set_title('Error dataset German')"
   ]
  },
  {
   "cell_type": "markdown",
   "metadata": {},
   "source": [
    "### Apartado 3 Scikit"
   ]
  },
  {
   "cell_type": "code",
   "execution_count": 13,
   "metadata": {
    "collapsed": true
   },
   "outputs": [],
   "source": [
    "from sklearn.naive_bayes import MultinomialNB, GaussianNB\n",
    "from sklearn.model_selection import train_test_split\n",
    "from sklearn import preprocessing \n",
    "from sklearn.model_selection import cross_val_score\n",
    "from sklearn.metrics import confusion_matrix\n",
    "from sklearn.model_selection import ShuffleSplit\n",
    "\n",
    "import itertools \n",
    "\n",
    "def plot_confusion_matrix(cm, classes,\n",
    "                          normalize=False,\n",
    "                          title='Confusion matrix',\n",
    "                          cmap=plt.cm.Blues):\n",
    "    \"\"\"\n",
    "    This function prints and plots the confusion matrix.\n",
    "    Normalization can be applied by setting `normalize=True`.\n",
    "    \"\"\"\n",
    "    if normalize:\n",
    "        cm = cm.astype('float') / cm.sum(axis=1)[:, np.newaxis]\n",
    "        print(\"Normalized confusion matrix\")\n",
    "    else:\n",
    "        print('Confusion matrix, without normalization')\n",
    "\n",
    "    print(cm)\n",
    "\n",
    "    plt.imshow(cm, interpolation='nearest', cmap=cmap)\n",
    "    plt.title(title)\n",
    "    plt.colorbar()\n",
    "    tick_marks = np.arange(len(classes))\n",
    "    plt.xticks(tick_marks, classes, rotation=45)\n",
    "    plt.yticks(tick_marks, classes)\n",
    "\n",
    "    fmt = '.2f' if normalize else 'd'\n",
    "    thresh = cm.max() / 2.\n",
    "    for i, j in itertools.product(range(cm.shape[0]), range(cm.shape[1])):\n",
    "        plt.text(j, i, format(cm[i, j], fmt),\n",
    "                 horizontalalignment=\"center\",\n",
    "                 color=\"white\" if cm[i, j] > thresh else \"black\")\n",
    "\n",
    "    plt.tight_layout()\n",
    "    plt.ylabel('True label')\n",
    "    plt.xlabel('Predicted label')\n"
   ]
  },
  {
   "cell_type": "markdown",
   "metadata": {},
   "source": [
    "### Caso tic-tac-toe\n",
    "#### Codificación de los atributos"
   ]
  },
  {
   "cell_type": "code",
   "execution_count": 14,
   "metadata": {
    "collapsed": true
   },
   "outputs": [],
   "source": [
    "encAtributos = preprocessing.OneHotEncoder(categorical_features=dataset.nominalAtributos[:-1],sparse=False)\n",
    "X = encAtributos.fit_transform(dataset.datos[:,:-1])\n",
    "Y = dataset.datos[:,-1] \n",
    "class_names = sorted(dataset.diccionarios[-1].keys())\n",
    "X_train, X_test, Y_train, Y_test = train_test_split(X, Y, test_size=0.3, random_state=0)"
   ]
  },
  {
   "cell_type": "markdown",
   "metadata": {},
   "source": [
    "#### Modelo\n",
    "Utilizamos un modelo multinomial ya que todos los atributos son nominales (discretos)."
   ]
  },
  {
   "cell_type": "code",
   "execution_count": 15,
   "metadata": {
    "collapsed": true
   },
   "outputs": [],
   "source": [
    "# Clasificador\n",
    "laplace_smoothing = 0.0\n",
    "model = MultinomialNB()\n",
    "if laplace_smoothing != 0:\n",
    "    model.alpha = laplace_smoothing"
   ]
  },
  {
   "cell_type": "markdown",
   "metadata": {},
   "source": [
    "#### Clasificación"
   ]
  },
  {
   "cell_type": "code",
   "execution_count": 16,
   "metadata": {},
   "outputs": [
    {
     "name": "stdout",
     "output_type": "stream",
     "text": [
      "Validación simple. Error: 0.32\n",
      "Validación cruzada. Error: 0.30 (+/- 0.04)\n"
     ]
    }
   ],
   "source": [
    "# Validacion simple\n",
    "model.fit(X_train, Y_train)\n",
    "score = model.score(X_test, Y_test)\n",
    "print(\"Validación simple. Error: %0.2f\" % (1-score))\n",
    "cnf_matrix = confusion_matrix(Y_test, model.predict(X_test))\n",
    "\n",
    "# Validacion cruzada\n",
    "cv = ShuffleSplit(n_splits=10, test_size=0.3, random_state=0)\n",
    "scores = cross_val_score(model, X, Y, cv=cv)\n",
    "print(\"Validación cruzada. Error: %0.2f (+/- %0.2f)\" % (1-scores.mean(), scores.std() * 2))"
   ]
  },
  {
   "cell_type": "code",
   "execution_count": 17,
   "metadata": {
    "scrolled": false
   },
   "outputs": [
    {
     "name": "stdout",
     "output_type": "stream",
     "text": [
      "Confusion matrix, without normalization\n",
      "[[ 43  57]\n",
      " [ 34 154]]\n",
      "Normalized confusion matrix\n",
      "[[ 0.43        0.57      ]\n",
      " [ 0.18085106  0.81914894]]\n"
     ]
    },
    {
     "data": {
      "image/png": "[encoded data removed]",
      "text/plain": [
       "<matplotlib.figure.Figure at 0x7f07449d8278>"
      ]
     },
     "metadata": {},
     "output_type": "display_data"
    },
    {
     "data": {
      "image/png": "[encoded data removed]",
      "text/plain": [
       "<matplotlib.figure.Figure at 0x7f07531746a0>"
      ]
     },
     "metadata": {},
     "output_type": "display_data"
    },
    {
     "data": {
      "text/plain": [
       "<matplotlib.figure.Figure at 0x7f07433e10b8>"
      ]
     },
     "metadata": {},
     "output_type": "display_data"
    },
    {
     "data": {
      "image/png": "[encoded data removed]",
      "text/plain": [
       "<matplotlib.figure.Figure at 0x7f07432e3898>"
      ]
     },
     "metadata": {},
     "output_type": "display_data"
    }
   ],
   "source": [
    "# Mostrar matrices de confusion\n",
    "plt.figure()\n",
    "plot_confusion_matrix(cnf_matrix, classes=class_names,\n",
    "                      title='Confusion matrix, without normalization')\n",
    "\n",
    "plt.figure()\n",
    "plot_confusion_matrix(cnf_matrix, classes=class_names, normalize=True,\n",
    "                      title='Normalized confusion matrix')\n",
    "\n",
    "plt.figure()\n",
    "ind = [error_tic, 1-score, error_tic_cruzada, 1-scores.mean()]\n",
    "fig, ax = plt.subplots()\n",
    "plt.bar(range(4), ind)\n",
    "ax.set_xticks(range(4))\n",
    "ax.set_xticklabels(['Simple', 'Simple Scikit', 'Cruzada', 'Cruzada Scikit'])\n",
    "ax.set_ylabel('Error (menos mejor)')\n",
    "ax.set_title('Error  dataset Tic-Tac-Toe')\n",
    "\n",
    "plt.show()"
   ]
  },
  {
   "cell_type": "markdown",
   "metadata": {},
   "source": [
    "Se observa que en particular, clasificamos bastante mal los negativos, teniendo un error en torno al 57% (es decir, una probabilidad de dar un falso positivo muy alta). Esto aún así puede ser bueno si logramos minimizar la probabilidad de un falso negativo (18%) que puede ser muy interesante en campos como el diagnóstico de enfermedades o el control de calidad.\n",
    "### Caso german\n",
    "En este caso, utilizamos un clasificador NB Gaussiano, que asumirá que todos los atributos son atributos continuos de distribución normal, luego cometeremos un error alto."
   ]
  },
  {
   "cell_type": "code",
   "execution_count": 18,
   "metadata": {},
   "outputs": [
    {
     "name": "stdout",
     "output_type": "stream",
     "text": [
      "Validación simple. Error: 0.31\n",
      "Validación cruzada. Error: 0.28 (+/- 0.05)\n",
      "Confusion matrix, without normalization\n",
      "[[160  54]\n",
      " [ 38  48]]\n",
      "Normalized confusion matrix\n",
      "[[ 0.74766355  0.25233645]\n",
      " [ 0.44186047  0.55813953]]\n"
     ]
    },
    {
     "data": {
      "image/png": "[encoded data removed]",
      "text/plain": [
       "<matplotlib.figure.Figure at 0x7f0744a3def0>"
      ]
     },
     "metadata": {},
     "output_type": "display_data"
    },
    {
     "data": {
      "image/png": "[encoded data removed]",
      "text/plain": [
       "<matplotlib.figure.Figure at 0x7f074321b7f0>"
      ]
     },
     "metadata": {},
     "output_type": "display_data"
    },
    {
     "data": {
      "text/plain": [
       "<matplotlib.figure.Figure at 0x7f074318a4e0>"
      ]
     },
     "metadata": {},
     "output_type": "display_data"
    },
    {
     "data": {
      "image/png": "[encoded data removed]",
      "text/plain": [
       "<matplotlib.figure.Figure at 0x7f074308a470>"
      ]
     },
     "metadata": {},
     "output_type": "display_data"
    }
   ],
   "source": [
    "encAtributos = preprocessing.OneHotEncoder(categorical_features=dataset2.nominalAtributos[:-1],sparse=False)\n",
    "X = encAtributos.fit_transform(dataset2.datos[:,:-1])\n",
    "Y = dataset2.datos[:,-1] \n",
    "class_names = sorted(dataset2.diccionarios[-1].keys())\n",
    "X_train, X_test, Y_train, Y_test = train_test_split(X, Y, test_size=0.3, random_state=1)\n",
    "\n",
    "# Clasificador\n",
    "laplace_smoothing = 0\n",
    "model = GaussianNB()\n",
    "if laplace_smoothing != 0:\n",
    "    model.alpha = laplace_smoothing\n",
    "    \n",
    "# Validacion simple\n",
    "model.fit(X_train, Y_train)\n",
    "score = model.score(X_test, Y_test)\n",
    "print(\"Validación simple. Error: %0.2f\" % (1-score))\n",
    "cnf_matrix = confusion_matrix(Y_test, model.predict(X_test))\n",
    "\n",
    "# Validacion cruzada\n",
    "cv = ShuffleSplit(n_splits=10, test_size=0.3, random_state=0)\n",
    "scores = cross_val_score(model, X, Y, cv=cv)\n",
    "print(\"Validación cruzada. Error: %0.2f (+/- %0.2f)\" % (1-scores.mean(), scores.std() * 2))\n",
    "\n",
    "# Mostrar matrices de confusion\n",
    "plt.figure()\n",
    "plot_confusion_matrix(cnf_matrix, classes=class_names,\n",
    "                      title='Confusion matrix, without normalization')\n",
    "\n",
    "plt.figure()\n",
    "plot_confusion_matrix(cnf_matrix, classes=class_names, normalize=True,\n",
    "                      title='Normalized confusion matrix')\n",
    "\n",
    "plt.figure()\n",
    "ind = [error_german, 1-score, error_german_cruzada, 1-scores.mean()]\n",
    "fig, ax = plt.subplots()\n",
    "plt.bar(range(4), ind)\n",
    "ax.set_xticks(range(4))\n",
    "ax.set_xticklabels(['Simple', 'Simple Scikit', 'Cruzada', 'Cruzada Scikit'])\n",
    "ax.set_ylabel('Error (menos mejor)')\n",
    "ax.set_title('Error  dataset German')\n",
    "\n",
    "plt.show()"
   ]
  },
  {
   "cell_type": "markdown",
   "metadata": {},
   "source": [
    "Como se ha mencionado antes, el error es considerablemente alto al nuestro ya que este Dataset contiene datos discretos y continuos y los clasificadores que usamos (Multinomial o Gaussian) asumen que o bien son discretos los datos o bien son continuos.\n",
    "\n",
    "Se observa como antes que se predice muy bien una de las dos clases, mientras que la otra tiene un error en torno al 50% (seguramente esta segunda clase dependa de dar una mejor estimación a los atributos nominales).\n",
    "\n",
    "No se incluyen por brevedad los resultados obtenidos con la corrección de Laplace pero son análogos a los obtenidos y la mejora es imperceptible o inexistente.\n",
    "\n",
    "## Apartado 4 Comentarios sobre la validación cruzada\n",
    "En sí la validación cruzada nos permite dividir un conjunto de datos en K particiones para la clasificación, sin embargo, esto puede no ser tan estable según el dataset.\n",
    "\n",
    "El ejemplo más claro de este fenómeno viene dado por el ordenamiento de los datos, esto lo que genera es que al estar ordenados los datos, al hacer la división en cada uno de los K-folds, resulte en que los datos de cada K-fold se parecen mucho entre sí y en general poco a los de entrenamiento, lo que genera un error mucho más alto del real. Para ello, se propone como solución (implementada también en nuestras implementaciones), un shuffle previo de los indices antes de realizar la validación cruzada o simple para así maximizar la distancia entre datos contiguos.\n",
    "\n",
    "Por otro lado, la validación cruzada devuelve K errores en vez de uno sólo, lo que puede generar interpretaciones erróneas de este valor ya que coger el mínimo o la media si hay mucha dispersión, puede resultar en dar una estimación poco real del error.\n",
    "\n",
    "Además en el caso de modelos hiperparamétricos, donde previo a entrenamiento, se debe estimar un parámetro (el único caso aquí es la corrección de Laplace y no se cumple esto), puede generar fallos ya que la estimación y optimización del hiperparámetro estará realizada teniendo en cuenta todos los datos y no restringiéndose al conjunto de entrenamiento.\n",
    "\n",
    "De manera empírica, se añade que el valor de la validación cruzada viene dado solo por el obtener un valor de desviación típica del error, ya que la media del error es similar a la dada por validación simple. Nótese que esto es algo particular del dataset y del clasificador, pero en este caso, no aporta un valor añadido."
   ]
  }
 ],
 "metadata": {
  "kernelspec": {
   "display_name": "Python 3",
   "language": "python",
   "name": "python3"
  },
  "language_info": {
   "codemirror_mode": {
    "name": "ipython",
    "version": 3
   },
   "file_extension": ".py",
   "mimetype": "text/x-python",
   "name": "python",
   "nbconvert_exporter": "python",
   "pygments_lexer": "ipython3",
   "version": "3.6.1"
  }
 },
 "nbformat": 4,
 "nbformat_minor": 2
}
