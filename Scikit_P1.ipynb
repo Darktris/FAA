{
 "cells": [
  {
   "cell_type": "code",
   "execution_count": 11,
   "metadata": {
    "collapsed": true
   },
   "outputs": [],
   "source": [
    "%load_ext autoreload\n",
    "%autoreload 2\n",
    "%reload_ext autoreload"
   ]
  },
  {
   "cell_type": "code",
   "execution_count": null,
   "metadata": {
    "collapsed": true
   },
   "outputs": [],
   "source": []
  },
  {
   "cell_type": "code",
   "execution_count": 32,
   "metadata": {
    "collapsed": true
   },
   "outputs": [],
   "source": [
    "from sklearn.naive_bayes import MultinomialNB, GaussianNB\n",
    "from datos import Datos\n",
    "from estrategiasparticionado.validacion_cruzada import ValidacionCruzada\n",
    "from estrategiasparticionado.validacion_simple import ValidacionSimple\n",
    "from clasificadores.clasificador_naive_bayes import ClasificadorNaiveBayes\n",
    "\n",
    "from sklearn.model_selection import train_test_split\n",
    "from sklearn import preprocessing \n",
    "from sklearn.model_selection import cross_val_score\n",
    "from sklearn.metrics import confusion_matrix\n",
    "from sklearn.model_selection import ShuffleSplit\n",
    "\n",
    "import matplotlib.pyplot as plt\n",
    "import numpy as np\n",
    "import itertools \n",
    "\n",
    "def plot_confusion_matrix(cm, classes,\n",
    "                          normalize=False,\n",
    "                          title='Confusion matrix',\n",
    "                          cmap=plt.cm.Blues):\n",
    "    \"\"\"\n",
    "    This function prints and plots the confusion matrix.\n",
    "    Normalization can be applied by setting `normalize=True`.\n",
    "    \"\"\"\n",
    "    if normalize:\n",
    "        cm = cm.astype('float') / cm.sum(axis=1)[:, np.newaxis]\n",
    "        print(\"Normalized confusion matrix\")\n",
    "    else:\n",
    "        print('Confusion matrix, without normalization')\n",
    "\n",
    "    print(cm)\n",
    "\n",
    "    plt.imshow(cm, interpolation='nearest', cmap=cmap)\n",
    "    plt.title(title)\n",
    "    plt.colorbar()\n",
    "    tick_marks = np.arange(len(classes))\n",
    "    plt.xticks(tick_marks, classes, rotation=45)\n",
    "    plt.yticks(tick_marks, classes)\n",
    "\n",
    "    fmt = '.2f' if normalize else 'd'\n",
    "    thresh = cm.max() / 2.\n",
    "    for i, j in itertools.product(range(cm.shape[0]), range(cm.shape[1])):\n",
    "        plt.text(j, i, format(cm[i, j], fmt),\n",
    "                 horizontalalignment=\"center\",\n",
    "                 color=\"white\" if cm[i, j] > thresh else \"black\")\n",
    "\n",
    "    plt.tight_layout()\n",
    "    plt.ylabel('True label')\n",
    "    plt.xlabel('Predicted label')\n"
   ]
  },
  {
   "cell_type": "code",
   "execution_count": 2,
   "metadata": {},
   "outputs": [],
   "source": [
    "# Cargar datasets\n",
    "dataset = dataset=Datos('./conjunto_datos/tic-tac-toe.data')\n",
    "encAtributos = preprocessing.OneHotEncoder(categorical_features=dataset.nominalAtributos[:-1],sparse=False)\n",
    "X = encAtributos.fit_transform(dataset.datos[:,:-1])\n",
    "Y = dataset.datos[:,-1] \n",
    "class_names = sorted(dataset.diccionarios[-1].keys())\n",
    "X_train, X_test, Y_train, Y_test = train_test_split(X, Y, test_size=0.4, random_state=0)"
   ]
  },
  {
   "cell_type": "code",
   "execution_count": 3,
   "metadata": {
    "collapsed": true
   },
   "outputs": [],
   "source": [
    "# Clasificador\n",
    "laplace_smoothing = 0\n",
    "model = MultinomialNB()"
   ]
  },
  {
   "cell_type": "code",
   "execution_count": 4,
   "metadata": {},
   "outputs": [
    {
     "name": "stdout",
     "output_type": "stream",
     "text": [
      "Accuracy: 0.72 (+/- 0.03)\n"
     ]
    }
   ],
   "source": [
    "# Validacion cruzada\n",
    "\n",
    "cv = ShuffleSplit(n_splits=10, test_size=0.3, random_state=1)\n",
    "scores = cross_val_score(model, X, Y, cv=cv)\n",
    "print(\"Accuracy: %0.2f (+/- %0.2f)\" % (scores.mean(), scores.std() * 2))"
   ]
  },
  {
   "cell_type": "code",
   "execution_count": 5,
   "metadata": {},
   "outputs": [
    {
     "name": "stdout",
     "output_type": "stream",
     "text": [
      "Accuracy: 0.69\n"
     ]
    }
   ],
   "source": [
    "# Entrenamiento para el caso de validacion simple\n",
    "model.fit(X_train, Y_train)\n",
    "score = model.score(X_test, Y_test)\n",
    "print(\"Accuracy: %0.2f\" % (score))\n",
    "cnf_matrix = confusion_matrix(Y_test, model.predict(X_test))"
   ]
  },
  {
   "cell_type": "code",
   "execution_count": 6,
   "metadata": {},
   "outputs": [
    {
     "name": "stdout",
     "output_type": "stream",
     "text": [
      "Confusion matrix, without normalization\n",
      "[[ 55  76]\n",
      " [ 42 211]]\n",
      "Normalized confusion matrix\n",
      "[[ 0.41984733  0.58015267]\n",
      " [ 0.16600791  0.83399209]]\n"
     ]
    },
    {
     "data": {
      "image/png": "[encoded data removed]",
      "text/plain": [
       "<matplotlib.figure.Figure at 0x7f0068090588>"
      ]
     },
     "metadata": {},
     "output_type": "display_data"
    },
    {
     "data": {
      "image/png": "[encoded data removed]",
      "text/plain": [
       "<matplotlib.figure.Figure at 0x7f0068014048>"
      ]
     },
     "metadata": {},
     "output_type": "display_data"
    }
   ],
   "source": [
    "# Mostrar matrices de confusion\n",
    "plt.figure()\n",
    "plot_confusion_matrix(cnf_matrix, classes=class_names,\n",
    "                      title='Confusion matrix, without normalization')\n",
    "\n",
    "# Plot normalized confusion matrix\n",
    "plt.figure()\n",
    "plot_confusion_matrix(cnf_matrix, classes=class_names, normalize=True,\n",
    "                      title='Normalized confusion matrix')\n",
    "\n",
    "plt.show()"
   ]
  },
  {
   "cell_type": "code",
   "execution_count": 9,
   "metadata": {},
   "outputs": [
    {
     "name": "stdout",
     "output_type": "stream",
     "text": [
      "The autoreload extension is already loaded. To reload it, use:\n",
      "  %reload_ext autoreload\n",
      "[ 425.  245.] 670.0\n",
      "atributo:\n",
      "[{2: 0.70117647058823529, 1: 0.29882352941176471, 0: 0.0}, {2: 0.59183673469387754, 1: 0.40816326530612246, 0: 0.0}]\n",
      "atributo:\n",
      "[{2: 0.71999999999999997, 1: 0.0, 0: 0.28000000000000003}, {2: 0.7795918367346939, 1: 0.0, 0: 0.22040816326530613}]\n",
      "atributo:\n",
      "[{2: 0.47764705882352942, 1: 0.29176470588235293, 0: 0.23058823529411765}, {2: 0.37142857142857144, 1: 0.44489795918367347, 0: 0.18367346938775511}]\n",
      "atributo:\n",
      "[{2: 0.34823529411764703, 1: 0.38823529411764707, 0: 0.2635294117647059}, {2: 0.45306122448979591, 1: 0.31020408163265306, 0: 0.23673469387755103}]\n",
      "atributo:\n",
      "[{1: 0.23999999999999999, 0: 0.19058823529411764, 2: 0.56941176470588239}, {1: 0.58367346938775511, 0: 0.14285714285714285, 2: 0.27346938775510204}]\n",
      "atributo:\n",
      "[{1: 0.35999999999999999, 0: 0.29411764705882354, 2: 0.34588235294117647}, {1: 0.31428571428571428, 0: 0.26530612244897961, 2: 0.42040816326530611}]\n",
      "atributo:\n",
      "[{2: 0.48941176470588238, 1: 0.29411764705882354, 0: 0.21647058823529411}, {2: 0.36326530612244901, 1: 0.44081632653061226, 0: 0.19591836734693877}]\n",
      "atributo:\n",
      "[{1: 0.35529411764705882, 2: 0.36470588235294116, 0: 0.28000000000000003}, {1: 0.30204081632653063, 2: 0.47755102040816327, 0: 0.22040816326530613}]\n",
      "atributo:\n",
      "[{1: 0.30588235294117649, 2: 0.45647058823529413, 0: 0.23764705882352941}, {1: 0.44081632653061226, 2: 0.37551020408163266, 0: 0.18367346938775511}]\n"
     ]
    }
   ],
   "source": [
    "%load_ext autoreload\n",
    "%autoreload 2\n",
    "%reload_ext autoreload\n",
    "\n",
    "import clasificadores.clasificador_naive_bayes as nb\n",
    "import estrategiasparticionado.validacion_cruzada as vc\n",
    "import estrategiasparticionado.validacion_simple as vs\n",
    "from datos import Datos\n",
    "\n",
    "dataset = Datos('./conjunto_datos/tic-tac-toe.data')\n",
    "\n",
    "\n",
    "clasificador = nb.ClasificadorNaiveBayes()\n",
    "estrategia_vc = vc.ValidacionCruzada()\n",
    "estrategia_vs = vs.ValidacionSimple()\n",
    "\n",
    "estrategia_vs.creaParticiones(dataset.datos)\n",
    "\n",
    "res_1 = clasificador.validacion(estrategia_vs, dataset)\n",
    "#res_2 = clasificador.validacion(estrategia_vc, dataset)\n",
    "\n",
    "\n",
    "\n",
    "\n"
   ]
  },
  {
   "cell_type": "code",
   "execution_count": null,
   "metadata": {
    "collapsed": true
   },
   "outputs": [],
   "source": []
  },
  {
   "cell_type": "code",
   "execution_count": null,
   "metadata": {
    "collapsed": true
   },
   "outputs": [],
   "source": []
  }
 ],
 "metadata": {
  "kernelspec": {
   "display_name": "Python 3",
   "language": "python",
   "name": "python3"
  },
  "language_info": {
   "codemirror_mode": {
    "name": "ipython",
    "version": 3
   },
   "file_extension": ".py",
   "mimetype": "text/x-python",
   "name": "python",
   "nbconvert_exporter": "python",
   "pygments_lexer": "ipython3",
   "version": "3.6.1"
  }
 },
 "nbformat": 4,
 "nbformat_minor": 2
}
