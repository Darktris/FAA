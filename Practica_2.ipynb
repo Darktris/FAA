{
 "cells": [
  {
   "cell_type": "code",
   "execution_count": 17,
   "metadata": {},
   "outputs": [
    {
     "data": {
      "text/plain": [
       "array([[ 2.,  1.],\n",
       "       [ 2.,  1.],\n",
       "       [ 2.,  1.],\n",
       "       ..., \n",
       "       [ 2.,  0.],\n",
       "       [ 2.,  0.],\n",
       "       [ 1.,  0.]])"
      ]
     },
     "execution_count": 17,
     "metadata": {},
     "output_type": "execute_result"
    }
   ],
   "source": [
    "%load_ext autoreload\n",
    "%autoreload 2\n",
    "%reload_ext autoreload\n",
    "\n",
    "import numpy as np\n",
    "from datos import Datos\n",
    "from estrategiasparticionado.validacion_cruzada import ValidacionCruzada\n",
    "from estrategiasparticionado.validacion_simple import ValidacionSimple\n",
    "\n",
    "dataset=Datos('./conjunto_datos/tic-tac-toe.data')\n",
    "dataset2=Datos('./conjunto_datos/german.data')\n",
    "dataset.datos[:,[1, -1]]"
   ]
  },
  {
   "cell_type": "code",
   "execution_count": 18,
   "metadata": {},
   "outputs": [
    {
     "name": "stdout",
     "output_type": "stream",
     "text": [
      "[247 231  16 229 542 818 625   0 244 897 935   6  24 330 675 221 568 335\n",
      " 350 671 502 587 497 855 256 634 420 807 662 902 437 746 219 379  73 397\n",
      " 233 517 500 243 951 616 458 611  84 101 794 695  64  57 893 218 488 271\n",
      " 681  92 324 947 683 749 698 530 718 785 642 748 481 554 747 119 581 339\n",
      " 942 409 605 806  15 392 166 669 261 477 786 932  62 298 404 264 808 548\n",
      " 236 622 531 593 349 753 125  49 433 789   4 419 490 922 633 240 494 636\n",
      " 105 550 563 496 203 601 541 733 112 560 277 351 805 117 740 841 315 237\n",
      " 648 293 383 578 378   2 910 354 656 321 776 320 596 863 728 848 828 133\n",
      "  39 468 788 470  17 457 888 100 313 765 627 763 651 674 386  91 272 925\n",
      " 183 924 857 693 372 638  81  23 562 322 411 706 890  65 195 124 887  54\n",
      " 181 864 268 111 870 428 444 729 480 711 752 934 896 520 172 260 812  53\n",
      " 327 609 866 791   7 783 102 204 434 446  66 618 527 571 228 849 291 659\n",
      " 539  51 159 439  48  79 712  35 700  32 732  82 758 476  26 262  50 337\n",
      " 140  68 197 207 615 907 230 400 612 577  18 736  61 162 846 370 297 214\n",
      "   3 241 460 630  80 331 173 623 859 108 702 719 913 798 883  87 685 637\n",
      " 412 927 394 713 797 832 259 151 726 311  93 239 684  44 835 667 249 573\n",
      " 202 332 483 594 405  85 274 209 654 773 582 756 422 952 364 180  19 340\n",
      "  20 358 921 827 829  38 647 861 904 834 179 567 915 356 522 767 401 547\n",
      " 192 300 617 919 816  78 438 505 463 365 182 909 900  55 191 137 226 357\n",
      " 388 906 779 564 164 248 169 198 279 292 299 940 513 286  14 744 696 950\n",
      " 923 901 603 396 345 933 487 842 894 234 663 369 680 307 107 619 142  21\n",
      " 886 641  41 493 474 516 399  12 187 146 115 296 649 939 598 161 342 591\n",
      " 194 920 270 781 602 421 537 266 176 258 800 918 595 606 377 368 580 216\n",
      "   1 628 375 283 856 572  40 796 734 232 465 941 308 414 538 731 589 821\n",
      " 310  70 255 482 402 679 688 892 813 833 854 533 254 928 872 575 103 956\n",
      " 703 459 722 771 714 626 193 284 281 750 147 385 395 295 540 608  11 157\n",
      " 715 346 168 515 287 665 545 213 196 208 583 154 273 803  25 664 473 436\n",
      " 604 144 817 485 109 445 341 908  60 512 317 774 355 687 552 134 288 312\n",
      " 724 943 461  86 576 889 658 775 334  43 510 509 426 903 363 130 754 860\n",
      " 289 523 469 839 895 106 333 443 871 304 360 507 652 666 592 954 793 737\n",
      " 809 267 643 478 710  34 558 408 544  77 353 323 707 937 263 672 565 453\n",
      " 701 442 881 569 276 868 761  31 720 709 931 245 518 536  37 431  58 217\n",
      " 727 579 879 635 852 224 743 252 891 762 588 768 384 766 319 303 454  46\n",
      " 524 424 551 158 936 413 280 555 945 764 278 170  33 689 152 257 163 657\n",
      " 682 898 374 814 122 407 880 120 294 186 559  29 466 784 553 799 503 410\n",
      " 376  27 690 200 792 867 225  67 521   8 309 878 717 145 227  83 325 670\n",
      " 640 661 189 584 156 235 529  59 795 251 929 644 949 526 610 957 607 632\n",
      " 282 535 238 389]\n",
      "[128 489 624 543 815 525 532 865 448 914 858  28 118 557 498 343 725 165\n",
      " 338 782 153 242 850 653 948 676 212 155  90 427 174  69 810 418 862 574\n",
      "  63 223 475  47 329 429 916 528 843  99 328 599 450 206 406 306 778 508\n",
      " 290 382  42 613  96 301 314 167 441 178 629 811 506 699 416 123 645 440\n",
      " 826 504 692 824 425 371  72 597 759 347 751 139 556 885 246 121 143 135\n",
      " 955 822 447 211 464 136 430 884 944 491 721 285 820 694 840 614   5 735\n",
      " 373 757 586 869  98 367 600 561 570 621 188 802 830 877 359 549 847 452\n",
      "  97 114 131 777 519 390 456  88  13 769 432 110 132 716 708 138 804 514\n",
      " 511 853 171 838 770 639 486 471 215 704 316 366 926 831 546  45  22 801\n",
      " 275 501 250 387 336 851 905 160  89 585 199 882 104 381 566 398 780 127\n",
      " 953 318  71 590 393 467 738 823 787 825 917 745 126 222 495 451 129 484\n",
      "   9 352 302  36  30 723  75 305 116 691  10 837 646 655 435 184 220 755\n",
      " 678 361 873 455 845 876 673 930 772 790 149 265 141 190 269 326 177 620\n",
      " 705 730 415 344 874 946 844 472 686 210 697 899 380 201 348  52 499 148\n",
      " 760 253 912  95 150 462 631 492 479  56 205 938 362 185 836 911 534 819\n",
      " 668 677 417 391 741 423 449 403 113 739 175  76  74 742 875 660  94 650]\n"
     ]
    }
   ],
   "source": [
    "validacionSimple = ValidacionSimple()\n",
    "validacionSimple.creaParticiones(dataset.datos)\n",
    "for particion in validacionSimple.particiones:\n",
    "    print(particion.indicesTrain)\n",
    "    print(particion.indicesTest)"
   ]
  },
  {
   "cell_type": "code",
   "execution_count": 19,
   "metadata": {},
   "outputs": [
    {
     "data": {
      "text/plain": [
       "array([288, 913, 627, 675, 310, 788, 173, 482, 763, 604, 395, 176, 955,\n",
       "       103, 842,  88, 524,  79, 545, 873, 153, 492, 455,  12, 801, 910,\n",
       "       945, 155, 552, 169, 550,  61,  57, 847,  28, 671, 598, 413, 375,\n",
       "       307, 802, 722, 325, 699,  90, 612, 270, 174,  60, 644, 625, 877,\n",
       "       806, 663, 879,  74, 851,  86, 940, 752, 835, 217, 768, 850,   1,\n",
       "       167, 823,   4, 458,  98, 320, 751, 553,  23, 687, 609, 866, 755,\n",
       "       302, 754, 899,  11, 269, 781, 403, 124, 127, 436, 611, 833, 949,\n",
       "       512, 703, 326, 483, 859, 670, 573, 789, 856, 255, 453, 210, 716,\n",
       "        69, 312, 494, 633, 926, 884, 518, 347, 807, 457, 613, 474, 264,\n",
       "       184, 720, 193, 189, 451, 503, 719, 902, 134,  44, 756, 149, 290,\n",
       "       463, 591, 709, 301, 819, 432,  37, 142, 894, 387, 394, 386, 725,\n",
       "       646,  76, 374, 704, 593, 368, 588, 377, 502, 918, 924, 743, 844,\n",
       "       626, 381, 590, 287, 473, 629, 274, 219, 102, 795, 254,  30, 664,\n",
       "       475, 824, 616, 333,  22, 653, 204,  38, 941, 705, 191, 140,  62,\n",
       "       712, 236, 500, 521, 165, 890, 487, 804, 148, 932, 510, 581, 260,\n",
       "       109, 619, 484, 259, 889, 120, 853, 652, 669, 431, 209, 933, 631,\n",
       "       335, 361, 595,  24,  45, 688, 608, 896, 283, 839, 587, 156, 560,\n",
       "       522, 954,  16, 689, 372, 728, 637, 292, 559,   3, 478, 805, 246,\n",
       "       911, 822, 694,  10, 739, 882, 794, 881, 490, 203, 419, 489, 303,\n",
       "        46, 808, 923, 180, 338, 661,  48, 136, 115, 323, 685, 731, 106,\n",
       "       610, 299, 182,  21, 258, 665, 284, 956, 706, 865, 171, 161, 846,\n",
       "       112, 757, 818, 263, 513,  14, 163, 443,  29, 117, 295,  49, 562,\n",
       "       509, 187,  68, 620, 231, 418, 343, 855, 711, 537, 849,  20, 634,\n",
       "       392, 543, 346, 373, 462, 244,  51, 596, 409,  35, 177, 337, 582,\n",
       "       422, 787, 622, 425, 505, 556, 229, 472, 854, 901, 904, 778, 908,\n",
       "       907, 519, 385, 623, 783, 218, 145, 471, 792, 892, 365, 393, 765,\n",
       "       605,  64, 594, 736, 666, 832, 113, 305, 643, 332, 447, 441, 214,\n",
       "       216, 834, 321, 517,  66, 558,  34, 858, 275, 116, 239, 862, 383,\n",
       "       793, 144, 530,  19, 234, 654,  47, 799, 424, 607, 486, 900, 532,\n",
       "       376,  99, 575, 869, 362, 123, 344, 888,  58, 101, 412, 456, 784,\n",
       "       400, 574, 175, 508, 828, 526, 769, 366,  32, 449, 126, 838, 298,\n",
       "        31,  91,  78, 104, 139, 416, 871, 937, 860, 133, 188, 309, 852,\n",
       "       578, 353, 928, 592, 724, 811, 504, 540, 327, 408, 760, 273, 414,\n",
       "       730, 767, 825, 150, 248,  43, 723, 452, 322, 401, 314, 570, 351,\n",
       "       311, 446,  89, 536, 848, 141, 296, 198, 658, 729, 196,  77, 363,\n",
       "       289, 329, 571, 183, 350, 237, 776, 300, 114, 495, 143, 444, 225,\n",
       "       294, 726, 159, 576, 506, 944, 330, 178, 864, 354, 352, 501, 747,\n",
       "       520, 742, 790, 415, 261,  42, 228, 195, 903, 341, 758, 235, 253,\n",
       "       898, 727, 920, 514, 841, 158, 428, 713, 734, 257, 349,  73, 692,\n",
       "       936, 935,   2, 241, 170, 897, 707, 131,  85, 579, 256,  82, 434,\n",
       "       777,  63, 721, 880, 230, 614,  71, 947, 586, 746, 677, 488, 380,\n",
       "       732, 615, 242,  18, 925, 684, 921, 601, 315, 691, 245, 749, 952,\n",
       "       674, 224, 813,  87, 481, 680, 367, 782, 648, 151, 772, 137,  92,\n",
       "       678, 181,   8, 467, 516, 953, 405, 673, 222, 469, 205, 840, 358,\n",
       "       655, 714, 426, 868, 927, 118, 577, 417, 465, 135, 389, 710, 212,\n",
       "       268, 194, 221,  53, 773,  36, 297, 893, 639, 370, 830, 122, 342,\n",
       "       433, 826, 861, 700, 110, 215, 466, 499, 681, 887, 324, 735, 480,\n",
       "       404, 676,  17, 585, 382, 427, 693, 252, 528, 437, 206, 589, 285,\n",
       "        94, 360,  83, 129, 107, 421, 286, 523, 548, 567,  56, 786, 429,\n",
       "       538, 201, 809, 265, 359, 459, 525, 800, 914, 563, 657, 125,  81,\n",
       "       397, 821, 328,  15, 164, 476, 369, 172, 280, 624, 493, 211, 660,\n",
       "       733, 845, 243, 233, 917,  95, 551, 831, 837, 442, 162, 701, 185,\n",
       "       857, 331, 564, 938, 915, 527, 240, 278, 276, 498, 922, 464, 440,\n",
       "       872, 939, 549, 281, 785, 208, 364, 541, 883, 718, 895, 774, 597,\n",
       "        39,  65, 909, 645, 803, 812,   5, 291, 640, 568,   9, 606, 649,\n",
       "       638, 146, 379, 378, 929, 531, 798, 119, 741, 717, 628,  67, 672,\n",
       "       886,  93, 345, 697, 186, 223, 916, 750, 132, 708, 461,  55, 220,\n",
       "       766, 407, 226, 817, 780, 696, 662, 105,  84, 435, 138, 406, 468,\n",
       "       810, 599, 679, 439, 566, 656, 168, 683, 554, 497, 775, 355,  96,\n",
       "       334, 561, 430, 690, 948, 262, 957,  97, 891, 121, 686, 930, 336,\n",
       "       843, 251, 511, 157, 479,   6, 659, 762, 232, 213, 761, 815, 402,\n",
       "       702, 875, 878, 450,  13, 557, 267, 546, 238, 816, 836, 410, 555,\n",
       "       820, 396,  50, 318, 867, 738, 128, 190,  72, 460, 874, 829, 306,\n",
       "       641, 791, 250, 477, 642,  59, 340, 423, 485, 600, 698,  27, 348,\n",
       "       682, 529, 885, 304, 635, 420, 438, 271, 695, 753, 572, 277, 356,\n",
       "       227,  80, 946, 584, 357, 770,  25, 876,  40, 247, 496, 371, 814,\n",
       "       796, 744, 651, 399])"
      ]
     },
     "execution_count": 19,
     "metadata": {},
     "output_type": "execute_result"
    }
   ],
   "source": [
    "validacionCruzada = ValidacionCruzada()\n",
    "\n",
    "validacionCruzada.creaParticiones(dataset.datos)\n",
    "\n",
    "    \n",
    "validacionCruzada.particiones[0].indicesTrain"
   ]
  },
  {
   "cell_type": "code",
   "execution_count": 20,
   "metadata": {},
   "outputs": [
    {
     "data": {
      "text/plain": [
       "array([ 2.,  2.,  2.,  2.,  1.,  1.,  2.,  1.,  1.,  1.])"
      ]
     },
     "execution_count": 20,
     "metadata": {},
     "output_type": "execute_result"
    }
   ],
   "source": [
    "dataset.extraeDatosTrain(0)"
   ]
  },
  {
   "cell_type": "code",
   "execution_count": 29,
   "metadata": {
    "scrolled": false
   },
   "outputs": [
    {
     "name": "stdout",
     "output_type": "stream",
     "text": [
      "5\n"
     ]
    },
    {
     "ename": "IndexError",
     "evalue": "invalid index to scalar variable.",
     "output_type": "error",
     "traceback": [
      "\u001b[0;31m---------------------------------------------------------------------------\u001b[0m",
      "\u001b[0;31mIndexError\u001b[0m                                Traceback (most recent call last)",
      "\u001b[0;32m<ipython-input-29-28de24080d15>\u001b[0m in \u001b[0;36m<module>\u001b[0;34m()\u001b[0m\n\u001b[1;32m     10\u001b[0m \u001b[0;34m\u001b[0m\u001b[0m\n\u001b[1;32m     11\u001b[0m \u001b[0;34m\u001b[0m\u001b[0m\n\u001b[0;32m---> 12\u001b[0;31m \u001b[0mres\u001b[0m \u001b[0;34m=\u001b[0m \u001b[0mclasificador\u001b[0m\u001b[0;34m.\u001b[0m\u001b[0mvalidacion\u001b[0m\u001b[0;34m(\u001b[0m\u001b[0mvalidacionSimple\u001b[0m\u001b[0;34m,\u001b[0m \u001b[0mdataset\u001b[0m\u001b[0;34m)\u001b[0m\u001b[0;34m\u001b[0m\u001b[0m\n\u001b[0m\u001b[1;32m     13\u001b[0m \u001b[0mclasificador\u001b[0m\u001b[0;34m.\u001b[0m\u001b[0merrores\u001b[0m\u001b[0;34m\u001b[0m\u001b[0m\n",
      "\u001b[0;32m/home/alumnos/e298729/FAA/clasificadores/clasificador.py\u001b[0m in \u001b[0;36mvalidacion\u001b[0;34m(self, particionado, dataset, seed)\u001b[0m\n\u001b[1;32m     43\u001b[0m \u001b[0;34m\u001b[0m\u001b[0m\n\u001b[1;32m     44\u001b[0m             \u001b[0mself\u001b[0m\u001b[0;34m.\u001b[0m\u001b[0mentrenamiento\u001b[0m\u001b[0;34m(\u001b[0m\u001b[0mentrenamiento\u001b[0m\u001b[0;34m,\u001b[0m \u001b[0mdataset\u001b[0m\u001b[0;34m.\u001b[0m\u001b[0mnominalAtributos\u001b[0m\u001b[0;34m,\u001b[0m \u001b[0mdataset\u001b[0m\u001b[0;34m.\u001b[0m\u001b[0mdiccionarios\u001b[0m\u001b[0;34m)\u001b[0m\u001b[0;34m\u001b[0m\u001b[0m\n\u001b[0;32m---> 45\u001b[0;31m             \u001b[0mprediccion\u001b[0m \u001b[0;34m=\u001b[0m \u001b[0mself\u001b[0m\u001b[0;34m.\u001b[0m\u001b[0mclasifica\u001b[0m\u001b[0;34m(\u001b[0m\u001b[0mx_test\u001b[0m\u001b[0;34m,\u001b[0m \u001b[0mdataset\u001b[0m\u001b[0;34m.\u001b[0m\u001b[0mnominalAtributos\u001b[0m\u001b[0;34m,\u001b[0m \u001b[0mdataset\u001b[0m\u001b[0;34m.\u001b[0m\u001b[0mdiccionarios\u001b[0m\u001b[0;34m)\u001b[0m\u001b[0;34m\u001b[0m\u001b[0m\n\u001b[0m\u001b[1;32m     46\u001b[0m \u001b[0;34m\u001b[0m\u001b[0m\n\u001b[1;32m     47\u001b[0m             \u001b[0merror\u001b[0m \u001b[0;34m=\u001b[0m \u001b[0mfloat\u001b[0m\u001b[0;34m(\u001b[0m\u001b[0mnp\u001b[0m\u001b[0;34m.\u001b[0m\u001b[0msum\u001b[0m\u001b[0;34m(\u001b[0m\u001b[0mprediccion\u001b[0m \u001b[0;34m!=\u001b[0m \u001b[0my_test\u001b[0m\u001b[0;34m)\u001b[0m\u001b[0;34m)\u001b[0m \u001b[0;34m/\u001b[0m \u001b[0mlen\u001b[0m\u001b[0;34m(\u001b[0m\u001b[0my_test\u001b[0m\u001b[0;34m)\u001b[0m\u001b[0;34m\u001b[0m\u001b[0m\n",
      "\u001b[0;32m/home/alumnos/e298729/FAA/clasificadores/clasificador_vecinos_proximos.py\u001b[0m in \u001b[0;36mclasifica\u001b[0;34m(self, datosTest, atributosDiscretos, diccionario)\u001b[0m\n\u001b[1;32m     23\u001b[0m \u001b[0;34m\u001b[0m\u001b[0m\n\u001b[1;32m     24\u001b[0m     \u001b[0;32mdef\u001b[0m \u001b[0mclasifica\u001b[0m\u001b[0;34m(\u001b[0m\u001b[0mself\u001b[0m\u001b[0;34m,\u001b[0m \u001b[0mdatosTest\u001b[0m\u001b[0;34m,\u001b[0m \u001b[0matributosDiscretos\u001b[0m\u001b[0;34m,\u001b[0m \u001b[0mdiccionario\u001b[0m\u001b[0;34m)\u001b[0m\u001b[0;34m:\u001b[0m\u001b[0;34m\u001b[0m\u001b[0m\n\u001b[0;32m---> 25\u001b[0;31m         \u001b[0;32mreturn\u001b[0m \u001b[0mnp\u001b[0m\u001b[0;34m.\u001b[0m\u001b[0mfromiter\u001b[0m\u001b[0;34m(\u001b[0m\u001b[0mmap\u001b[0m\u001b[0;34m(\u001b[0m\u001b[0;32mlambda\u001b[0m \u001b[0mrecord\u001b[0m\u001b[0;34m:\u001b[0m \u001b[0mself\u001b[0m\u001b[0;34m.\u001b[0m\u001b[0m__clasifica_uno__\u001b[0m\u001b[0;34m(\u001b[0m\u001b[0mrecord\u001b[0m\u001b[0;34m)\u001b[0m\u001b[0;34m,\u001b[0m\u001b[0mdatosTest\u001b[0m\u001b[0;34m)\u001b[0m\u001b[0;34m,\u001b[0m\u001b[0mdtype\u001b[0m\u001b[0;34m=\u001b[0m\u001b[0mfloat\u001b[0m\u001b[0;34m)\u001b[0m\u001b[0;34m\u001b[0m\u001b[0m\n\u001b[0m\u001b[1;32m     26\u001b[0m \u001b[0;34m\u001b[0m\u001b[0m\n\u001b[1;32m     27\u001b[0m \u001b[0;34m\u001b[0m\u001b[0m\n",
      "\u001b[0;32m/home/alumnos/e298729/FAA/clasificadores/clasificador_vecinos_proximos.py\u001b[0m in \u001b[0;36m<lambda>\u001b[0;34m(record)\u001b[0m\n\u001b[1;32m     23\u001b[0m \u001b[0;34m\u001b[0m\u001b[0m\n\u001b[1;32m     24\u001b[0m     \u001b[0;32mdef\u001b[0m \u001b[0mclasifica\u001b[0m\u001b[0;34m(\u001b[0m\u001b[0mself\u001b[0m\u001b[0;34m,\u001b[0m \u001b[0mdatosTest\u001b[0m\u001b[0;34m,\u001b[0m \u001b[0matributosDiscretos\u001b[0m\u001b[0;34m,\u001b[0m \u001b[0mdiccionario\u001b[0m\u001b[0;34m)\u001b[0m\u001b[0;34m:\u001b[0m\u001b[0;34m\u001b[0m\u001b[0m\n\u001b[0;32m---> 25\u001b[0;31m         \u001b[0;32mreturn\u001b[0m \u001b[0mnp\u001b[0m\u001b[0;34m.\u001b[0m\u001b[0mfromiter\u001b[0m\u001b[0;34m(\u001b[0m\u001b[0mmap\u001b[0m\u001b[0;34m(\u001b[0m\u001b[0;32mlambda\u001b[0m \u001b[0mrecord\u001b[0m\u001b[0;34m:\u001b[0m \u001b[0mself\u001b[0m\u001b[0;34m.\u001b[0m\u001b[0m__clasifica_uno__\u001b[0m\u001b[0;34m(\u001b[0m\u001b[0mrecord\u001b[0m\u001b[0;34m)\u001b[0m\u001b[0;34m,\u001b[0m\u001b[0mdatosTest\u001b[0m\u001b[0;34m)\u001b[0m\u001b[0;34m,\u001b[0m\u001b[0mdtype\u001b[0m\u001b[0;34m=\u001b[0m\u001b[0mfloat\u001b[0m\u001b[0;34m)\u001b[0m\u001b[0;34m\u001b[0m\u001b[0m\n\u001b[0m\u001b[1;32m     26\u001b[0m \u001b[0;34m\u001b[0m\u001b[0m\n\u001b[1;32m     27\u001b[0m \u001b[0;34m\u001b[0m\u001b[0m\n",
      "\u001b[0;32m/home/alumnos/e298729/FAA/clasificadores/clasificador_vecinos_proximos.py\u001b[0m in \u001b[0;36m__clasifica_uno__\u001b[0;34m(self, datoTest)\u001b[0m\n\u001b[1;32m     29\u001b[0m         \u001b[0mdistancias\u001b[0m \u001b[0;34m=\u001b[0m \u001b[0mnp\u001b[0m\u001b[0;34m.\u001b[0m\u001b[0mfromiter\u001b[0m\u001b[0;34m(\u001b[0m\u001b[0mmap\u001b[0m\u001b[0;34m(\u001b[0m\u001b[0;32mlambda\u001b[0m \u001b[0mejemplo\u001b[0m\u001b[0;34m:\u001b[0m \u001b[0mself\u001b[0m\u001b[0;34m.\u001b[0m\u001b[0m__distancia__\u001b[0m\u001b[0;34m(\u001b[0m\u001b[0mejemplo\u001b[0m\u001b[0;34m,\u001b[0m\u001b[0mdatoTest\u001b[0m\u001b[0;34m)\u001b[0m\u001b[0;34m,\u001b[0m \u001b[0mself\u001b[0m\u001b[0;34m.\u001b[0m\u001b[0mdatos_normalizados_train\u001b[0m\u001b[0;34m)\u001b[0m\u001b[0;34m,\u001b[0m\u001b[0mdtype\u001b[0m\u001b[0;34m=\u001b[0m\u001b[0mfloat\u001b[0m\u001b[0;34m)\u001b[0m\u001b[0;34m\u001b[0m\u001b[0m\n\u001b[1;32m     30\u001b[0m         \u001b[0mprint\u001b[0m\u001b[0;34m(\u001b[0m\u001b[0mself\u001b[0m\u001b[0;34m.\u001b[0m\u001b[0mK\u001b[0m\u001b[0;34m)\u001b[0m\u001b[0;34m\u001b[0m\u001b[0m\n\u001b[0;32m---> 31\u001b[0;31m         \u001b[0mindices_vecinos\u001b[0m \u001b[0;34m=\u001b[0m \u001b[0mnp\u001b[0m\u001b[0;34m.\u001b[0m\u001b[0margmin\u001b[0m\u001b[0;34m(\u001b[0m\u001b[0mdistancias\u001b[0m\u001b[0;34m)\u001b[0m\u001b[0;34m[\u001b[0m\u001b[0;34m:\u001b[0m\u001b[0mself\u001b[0m\u001b[0;34m.\u001b[0m\u001b[0mK\u001b[0m\u001b[0;34m]\u001b[0m\u001b[0;34m\u001b[0m\u001b[0m\n\u001b[0m\u001b[1;32m     32\u001b[0m         \u001b[0mclases_vecinos\u001b[0m \u001b[0;34m=\u001b[0m \u001b[0mself\u001b[0m\u001b[0;34m.\u001b[0m\u001b[0mclases_train\u001b[0m\u001b[0;34m[\u001b[0m\u001b[0mindices_vecinos\u001b[0m\u001b[0;34m]\u001b[0m\u001b[0;34m\u001b[0m\u001b[0m\n\u001b[1;32m     33\u001b[0m \u001b[0;34m\u001b[0m\u001b[0m\n",
      "\u001b[0;31mIndexError\u001b[0m: invalid index to scalar variable."
     ]
    }
   ],
   "source": [
    "import numpy as np\n",
    "from datos import Datos\n",
    "from estrategiasparticionado.validacion_cruzada import ValidacionCruzada\n",
    "from estrategiasparticionado.validacion_simple import ValidacionSimple\n",
    "from clasificadores.clasificador_vecinos_proximos import ClasificadorVecinosProximos\n",
    "\n",
    "dataset=Datos('./conjunto_datos/german.data')\n",
    "dataset.datos\n",
    "clasificador = ClasificadorVecinosProximos()\n",
    "\n",
    "\n",
    "res = clasificador.validacion(validacionSimple, dataset)\n",
    "clasificador.errores"
   ]
  },
  {
   "cell_type": "code",
   "execution_count": 29,
   "metadata": {
    "collapsed": true
   },
   "outputs": [
    {
     "data": {
      "text/plain": [
       "[0.24428571428571427]"
      ]
     },
     "execution_count": 29,
     "metadata": {},
     "output_type": "execute_result"
    }
   ],
   "source": [
    "clasificador = ClasificadorNaiveBayes()\n",
    "res = clasificador.validacion(validacionSimple, dataset)\n",
    "clasificador.errores"
   ]
  },
  {
   "cell_type": "code",
   "execution_count": null,
   "metadata": {
    "collapsed": true
   },
   "outputs": [],
   "source": []
  },
  {
   "cell_type": "code",
   "execution_count": 14,
   "metadata": {},
   "outputs": [
    {
     "data": {
      "text/plain": [
       "1.2599210498948732"
      ]
     },
     "execution_count": 14,
     "metadata": {},
     "output_type": "execute_result"
    }
   ],
   "source": [
    "import numpy.linalg as LA\n",
    "\n",
    "\n",
    "LA.norm([1,1],ord=3)"
   ]
  },
  {
   "cell_type": "code",
   "execution_count": null,
   "metadata": {
    "collapsed": true
   },
   "outputs": [],
   "source": []
  },
  {
   "cell_type": "code",
   "execution_count": null,
   "metadata": {
    "collapsed": true
   },
   "outputs": [],
   "source": []
  },
  {
   "cell_type": "code",
   "execution_count": null,
   "metadata": {
    "collapsed": true
   },
   "outputs": [],
   "source": []
  },
  {
   "cell_type": "code",
   "execution_count": null,
   "metadata": {
    "collapsed": true
   },
   "outputs": [],
   "source": []
  },
  {
   "cell_type": "code",
   "execution_count": null,
   "metadata": {
    "collapsed": true
   },
   "outputs": [],
   "source": []
  },
  {
   "cell_type": "code",
   "execution_count": null,
   "metadata": {
    "collapsed": true
   },
   "outputs": [],
   "source": []
  },
  {
   "cell_type": "code",
   "execution_count": null,
   "metadata": {
    "collapsed": true
   },
   "outputs": [],
   "source": []
  }
 ],
 "metadata": {
  "kernelspec": {
   "display_name": "Python 3",
   "language": "python",
   "name": "python3"
  },
  "language_info": {
   "codemirror_mode": {
    "name": "ipython",
    "version": 3
   },
   "file_extension": ".py",
   "mimetype": "text/x-python",
   "name": "python",
   "nbconvert_exporter": "python",
   "pygments_lexer": "ipython3",
   "version": "3.6.2"
  }
 },
 "nbformat": 4,
 "nbformat_minor": 2
}
