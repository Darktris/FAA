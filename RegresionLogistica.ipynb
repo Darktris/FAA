{
 "cells": [
  {
   "cell_type": "code",
   "execution_count": null,
   "metadata": {},
   "outputs": [],
   "source": [
    "%load_ext autoreload\n",
    "%autoreload 2\n",
    "%reload_ext autoreload\n",
    "\n",
    "import numpy as np\n",
    "from datos import Datos\n",
    "from estrategiasparticionado.validacion_cruzada import ValidacionCruzada\n",
    "from estrategiasparticionado.validacion_simple import ValidacionSimple\n",
    "from clasificadores.clasificador_regresion_logistica import ClasificadorRegresionLogistica\n",
    "\n",
    "dataset=Datos('./conjunto_datos/tic-tac-toe.data')\n",
    "dataset2=Datos('./conjunto_datos/german.data')\n",
    "dataset.datos[:,[1, -1]]"
   ]
  },
  {
   "cell_type": "code",
   "execution_count": null,
   "metadata": {},
   "outputs": [],
   "source": [
    "validacionSimple = ValidacionSimple()\n",
    "validacionSimple.creaParticiones(dataset.datos)\n",
    "for particion in validacionSimple.particiones:\n",
    "    print(particion.indicesTrain)\n",
    "    print(particion.indicesTest)"
   ]
  },
  {
   "cell_type": "code",
   "execution_count": null,
   "metadata": {},
   "outputs": [],
   "source": [
    "validacionCruzada = ValidacionCruzada()\n",
    "\n",
    "validacionCruzada.creaParticiones(dataset.datos)\n",
    "\n",
    "    \n",
    "validacionCruzada.particiones[0].indicesTrain"
   ]
  },
  {
   "cell_type": "code",
   "execution_count": null,
   "metadata": {},
   "outputs": [],
   "source": [
    "dataset.extraeDatosTrain(0)"
   ]
  },
  {
   "cell_type": "code",
   "execution_count": null,
   "metadata": {},
   "outputs": [],
   "source": [
    "clasificador = ClasificadorRegresionLogistica()\n",
    "res = clasificador.validacion(validacionSimple, dataset)\n",
    "print(res)\n"
   ]
  },
  {
   "cell_type": "code",
   "execution_count": null,
   "metadata": {
    "collapsed": true
   },
   "outputs": [],
   "source": [
    "hist = np.histogram([1, 2, 3,2],bins=len(np.unique([1, 2, 3, 3])))"
   ]
  },
  {
   "cell_type": "code",
   "execution_count": null,
   "metadata": {
    "collapsed": true
   },
   "outputs": [],
   "source": []
  },
  {
   "cell_type": "code",
   "execution_count": null,
   "metadata": {
    "collapsed": true
   },
   "outputs": [],
   "source": [
    "matrix = np.array([[1, 0, 1],[1, 0, 0],[1, 0, 1]])\n",
    "matrix[np.where(matrix[-1] == 1)]"
   ]
  },
  {
   "cell_type": "code",
   "execution_count": null,
   "metadata": {
    "collapsed": true
   },
   "outputs": [],
   "source": []
  },
  {
   "cell_type": "code",
   "execution_count": null,
   "metadata": {},
   "outputs": [],
   "source": [
    "import numpy as np\n",
    "from datos import Datos\n",
    "from estrategiasparticionado.validacion_cruzada import ValidacionCruzada\n",
    "from estrategiasparticionado.validacion_simple import ValidacionSimple\n",
    "from clasificadores.clasificador_regresion_logistica import ClasificadorRegresionLogistica\n",
    "dataset=Datos('./conjunto_datos/example1.data')\n",
    "dataset.datos\n",
    "clasificador = ClasificadorRegresionLogistica()\n",
    "res = clasificador.validacion(validacionSimple, dataset)\n",
    "clasificador.errores"
   ]
  },
  {
   "cell_type": "code",
   "execution_count": null,
   "metadata": {
    "collapsed": true
   },
   "outputs": [],
   "source": []
  },
  {
   "cell_type": "code",
   "execution_count": null,
   "metadata": {},
   "outputs": [],
   "source": [
    "from plotModel import plotModel\n",
    "import matplotlib.pyplot as plt\n",
    "%matplotlib inline\n",
    "clasificador = ClasificadorRegresionLogistica()\n",
    "\n",
    "for i in range(1, 5):\n",
    "    dataset=Datos('./conjunto_datos/example%d.data' % i)\n",
    "    res = clasificador.validacion(validacionSimple, dataset)\n",
    "    estrategia = ValidacionSimple()\n",
    "    estrategia.creaParticiones(dataset.datos)\n",
    "    ii = estrategia.particiones[-1].indicesTrain\n",
    "    plt.figure()\n",
    "    plotModel(dataset.datos[ii,0],dataset.datos[ii,1],dataset.datos\n",
    "    [ii,-1]!=0,clasificador,\"Frontera\",dataset.diccionarios)\n",
    "    print('Error de ./conjunto_datos/example%d.data: %s'% (i, clasificador.errores))\n",
    "\n"
   ]
  },
  {
   "cell_type": "code",
   "execution_count": null,
   "metadata": {
    "collapsed": true
   },
   "outputs": [],
   "source": []
  },
  {
   "cell_type": "code",
   "execution_count": null,
   "metadata": {
    "collapsed": true
   },
   "outputs": [],
   "source": []
  },
  {
   "cell_type": "code",
   "execution_count": null,
   "metadata": {
    "collapsed": true
   },
   "outputs": [],
   "source": []
  },
  {
   "cell_type": "code",
   "execution_count": null,
   "metadata": {
    "collapsed": true
   },
   "outputs": [],
   "source": []
  },
  {
   "cell_type": "code",
   "execution_count": null,
   "metadata": {
    "collapsed": true
   },
   "outputs": [],
   "source": []
  },
  {
   "cell_type": "code",
   "execution_count": null,
   "metadata": {
    "collapsed": true
   },
   "outputs": [],
   "source": []
  },
  {
   "cell_type": "code",
   "execution_count": null,
   "metadata": {
    "collapsed": true
   },
   "outputs": [],
   "source": []
  }
 ],
 "metadata": {
  "kernelspec": {
   "display_name": "Python 3",
   "language": "python",
   "name": "python3"
  },
  "language_info": {
   "codemirror_mode": {
    "name": "ipython",
    "version": 3
   },
   "file_extension": ".py",
   "mimetype": "text/x-python",
   "name": "python",
   "nbconvert_exporter": "python",
   "pygments_lexer": "ipython3",
   "version": "3.6.1"
  }
 },
 "nbformat": 4,
 "nbformat_minor": 2
}
