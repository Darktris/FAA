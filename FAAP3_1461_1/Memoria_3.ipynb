{
 "cells": [
  {
   "cell_type": "markdown",
   "metadata": {},
   "source": [
    "# Fundamentos de Aprendizaje Automático"
   ]
  },
  {
   "cell_type": "markdown",
   "metadata": {},
   "source": [
    "\n",
    "## Práctica 3\n"
   ]
  },
  {
   "cell_type": "code",
   "execution_count": 1,
   "metadata": {
    "collapsed": true
   },
   "outputs": [],
   "source": [
    "# Imports globales\n",
    "%load_ext autoreload\n",
    "%autoreload 2\n",
    "%reload_ext autoreload\n",
    "\n",
    "import compileall\n",
    "import numpy as np\n",
    "import time\n",
    "import matplotlib.pyplot as plt\n",
    "\n",
    "compileall.compile_dir('.',force=True,quiet=True)\n",
    "\n",
    "from datos import Datos\n",
    "from clasificadores.clasificador_regresion_logistica import ClasificadorRegresionLogistica\n",
    "from preprocesamientoag.preprocesamiento_ag import PreprocesamientoAG\n",
    "from plotModel import plotModel\n",
    "\n",
    "%matplotlib inline"
   ]
  },
  {
   "cell_type": "markdown",
   "metadata": {},
   "source": [
    "### Apartado 1 \n",
    "#### Breve descripción de algunos detalles de la implementación\n"
   ]
  },
  {
   "cell_type": "markdown",
   "metadata": {},
   "source": [
    "Pseudocódigo:\n",
    "```\n",
    "mientras fitness < max_fitness o generaciones < max_generaciones\n",
    "    progenitores = seleccion_progenitores(poblacion)\n",
    "    elite = seleccionar_elite(poblacion)\n",
    "    sucesores = cruzar(progenitores)\n",
    "    mutantes = mutar(sucesores)\n",
    "    poblacion = mutantes + elite\n",
    "```\n",
    "Nótese que por optimización, varios pasos se han podido implementar aprovechando outputs de otras funciones. "
   ]
  },
  {
   "cell_type": "markdown",
   "metadata": {},
   "source": [
    "##### Mecanismo de cruce implementado\n",
    "\n",
    "El mecanismo de cruce que hemos implementado es cruce uniforme, en el cual se elige un alelo de uno de los dos progenitores de manera aleatoria para cada alelo del sucesor. Dado que en nuestro caso la información de un individuo se representa en una cadena de bits, para generar un sucesor cruzando dos individuos simplemente rellenamos cada posición del array de bits con el bit de uno de los dos progenitores elegido alternativamente."
   ]
  },
  {
   "cell_type": "markdown",
   "metadata": {},
   "source": [
    "##### Mecanismo de mutacion\n",
    "\n",
    "El mecanismo de mutación implementado consiste en recorrer el array de bits del individuo y alterar cada uno de ellos con una cierta probabilidad. La manera de alterarlos consiste en negar cada bit."
   ]
  },
  {
   "cell_type": "markdown",
   "metadata": {
    "collapsed": true
   },
   "source": [
    "### Apartado 2 \n",
    "Resultados  de  la  selección  de  atributos  mediante  el algoritmo genético para los siguientes casos:"
   ]
  },
  {
   "cell_type": "code",
   "execution_count": 2,
   "metadata": {
    "collapsed": true
   },
   "outputs": [],
   "source": [
    "clasificador = ClasificadorRegresionLogistica()\n",
    "dataset=Datos('./conjunto_datos/wdbc.data')\n",
    "max_fitness = 0.93"
   ]
  },
  {
   "cell_type": "markdown",
   "metadata": {},
   "source": [
    "#### a) Tamaño de población = 50 ; Generaciones = 50 "
   ]
  },
  {
   "cell_type": "code",
   "execution_count": 3,
   "metadata": {},
   "outputs": [
    {
     "name": "stdout",
     "output_type": "stream",
     "text": [
      "Atributos seleccionados:\n",
      "['Atributo2' 'Atributo3' 'Atributo5' 'Atributo7' 'Atributo10' 'Atributo12'\n",
      " 'Atributo15' 'Atributo16' 'Atributo17' 'Atributo18' 'Atributo20'\n",
      " 'Atributo21' 'Atributo24' 'Atributo26' 'Atributo28' 'Atributo29'\n",
      " 'Atributo30' 'Diagnosis']\n",
      "Puntuación en clasificacion:\n",
      "0.937185929648\n"
     ]
    }
   ],
   "source": [
    "ppag = PreprocesamientoAG(tamano_poblacion=50,max_generaciones=50, max_fitness=max_fitness)\n",
    "ppag.seleccionarAtributos(dataset, clasificador,quiet=True)\n",
    "\n",
    "\n",
    "selected = np.append(ppag.atributos_seleccionados.astype(bool),True)\n",
    "print(\"Atributos seleccionados:\")\n",
    "print(np.asarray(dataset.nombreAtributos)[selected])\n",
    "print(\"Puntuación en clasificacion:\")\n",
    "print(ppag.puntuacion)"
   ]
  },
  {
   "cell_type": "markdown",
   "metadata": {},
   "source": [
    "#### b) Tamaño de población = 50 ; Generaciones = 75 "
   ]
  },
  {
   "cell_type": "code",
   "execution_count": 4,
   "metadata": {},
   "outputs": [
    {
     "name": "stdout",
     "output_type": "stream",
     "text": [
      "Atributos seleccionados:\n",
      "['Atributo1' 'Atributo2' 'Atributo3' 'Atributo4' 'Atributo5' 'Atributo9'\n",
      " 'Atributo10' 'Atributo14' 'Atributo15' 'Atributo16' 'Atributo18'\n",
      " 'Atributo19' 'Atributo20' 'Atributo22' 'Atributo23' 'Atributo24'\n",
      " 'Atributo25' 'Atributo26' 'Atributo29' 'Diagnosis']\n",
      "Puntuación en clasificacion:\n",
      "0.93216080402\n"
     ]
    }
   ],
   "source": [
    "ppag = PreprocesamientoAG(tamano_poblacion=50,max_generaciones=75, max_fitness=max_fitness)\n",
    "ppag.seleccionarAtributos(dataset, clasificador,quiet=True)\n",
    "\n",
    "\n",
    "selected = np.append(ppag.atributos_seleccionados.astype(bool),True)\n",
    "print(\"Atributos seleccionados:\")\n",
    "print(np.asarray(dataset.nombreAtributos)[selected])\n",
    "print(\"Puntuación en clasificacion:\")\n",
    "print(ppag.puntuacion)"
   ]
  },
  {
   "cell_type": "markdown",
   "metadata": {},
   "source": [
    "#### c) Tamaño de población = 75 ; Generaciones = 50  "
   ]
  },
  {
   "cell_type": "code",
   "execution_count": 5,
   "metadata": {},
   "outputs": [
    {
     "name": "stdout",
     "output_type": "stream",
     "text": [
      "Atributos seleccionados:\n",
      "['Atributo1' 'Atributo2' 'Atributo3' 'Atributo7' 'Atributo11' 'Atributo13'\n",
      " 'Atributo14' 'Atributo15' 'Atributo17' 'Atributo18' 'Atributo19'\n",
      " 'Atributo20' 'Atributo24' 'Diagnosis']\n",
      "Puntuación en clasificacion:\n",
      "0.93216080402\n"
     ]
    }
   ],
   "source": [
    "ppag = PreprocesamientoAG(tamano_poblacion=75,max_generaciones=50, max_fitness=max_fitness)\n",
    "ppag.seleccionarAtributos(dataset, clasificador,quiet=True)\n",
    "\n",
    "\n",
    "selected = np.append(ppag.atributos_seleccionados.astype(bool),True)\n",
    "print(\"Atributos seleccionados:\")\n",
    "print(np.asarray(dataset.nombreAtributos)[selected])\n",
    "print(\"Puntuación en clasificacion:\")\n",
    "print(ppag.puntuacion)"
   ]
  },
  {
   "cell_type": "markdown",
   "metadata": {},
   "source": [
    "#### d) Tamaño de población = 75 ; Generaciones = 75 "
   ]
  },
  {
   "cell_type": "code",
   "execution_count": 6,
   "metadata": {},
   "outputs": [
    {
     "name": "stdout",
     "output_type": "stream",
     "text": [
      "Atributos seleccionados:\n",
      "['Atributo3' 'Atributo4' 'Atributo7' 'Atributo9' 'Atributo10' 'Atributo11'\n",
      " 'Atributo12' 'Atributo13' 'Atributo16' 'Atributo17' 'Atributo18'\n",
      " 'Atributo20' 'Atributo24' 'Atributo27' 'Atributo28' 'Atributo30'\n",
      " 'Diagnosis']\n",
      "Puntuación en clasificacion:\n",
      "0.93216080402\n"
     ]
    }
   ],
   "source": [
    "ppag = PreprocesamientoAG(tamano_poblacion=75,max_generaciones=75, max_fitness=max_fitness)\n",
    "ppag.seleccionarAtributos(dataset, clasificador,quiet=True)\n",
    "\n",
    "\n",
    "selected = np.append(ppag.atributos_seleccionados.astype(bool),True)\n",
    "print(\"Atributos seleccionados:\")\n",
    "print(np.asarray(dataset.nombreAtributos)[selected])\n",
    "print(\"Puntuación en clasificacion:\")\n",
    "print(ppag.puntuacion)"
   ]
  },
  {
   "cell_type": "markdown",
   "metadata": {},
   "source": [
    "### Apartado 3\n",
    "En esta sección se exponen los resultados obtenidos con scikit"
   ]
  },
  {
   "cell_type": "code",
   "execution_count": 7,
   "metadata": {},
   "outputs": [
    {
     "name": "stdout",
     "output_type": "stream",
     "text": [
      "SelectFromModel\n",
      "Atributos seleccionados:\n",
      "['Atributo3' 'Atributo4' 'Atributo14' 'Atributo24' 'Diagnosis']\n",
      "Puntuación en clasificacion:\n",
      "0.94298245614\n"
     ]
    }
   ],
   "source": [
    "from sklearn.feature_selection import SelectFromModel, SelectKBest, f_classif\n",
    "from sklearn.linear_model import LogisticRegression\n",
    "from sklearn.pipeline import Pipeline\n",
    "from sklearn.svm import LinearSVC\n",
    "from sklearn import preprocessing \n",
    "from sklearn.model_selection import GridSearchCV, train_test_split\n",
    "\n",
    "\n",
    "encAtributos = preprocessing.OneHotEncoder(categorical_features=dataset.nominalAtributos[:-1],sparse=False)\n",
    "X = encAtributos.fit_transform(dataset.datos[:,:-1])\n",
    "Y = dataset.datos[:,-1] \n",
    "class_names = sorted(dataset.diccionarios[-1].keys())\n",
    "X_train, X_test, Y_train, Y_test = train_test_split(X, Y, test_size=0.4, random_state=6)\n",
    "\n",
    "lsvc = LinearSVC(C=0.01, penalty=\"l1\", dual=False).fit(X_train, Y_train)\n",
    "clf = Pipeline([\n",
    " ('feature_selection', SelectFromModel(lsvc)),\n",
    " ('classification', LogisticRegression())\n",
    "])\n",
    "print('SelectFromModel')\n",
    "clf.fit(X_test, Y_test)\n",
    "mk = clf.named_steps['feature_selection'].get_support()\n",
    "selected = np.append(mk, True)\n",
    "print(\"Atributos seleccionados:\")\n",
    "print(np.asarray(dataset.nombreAtributos)[selected])\n",
    "print(\"Puntuación en clasificacion:\")\n",
    "print(clf.score(X_test, Y_test))"
   ]
  },
  {
   "cell_type": "markdown",
   "metadata": {},
   "source": [
    "Para el caso de SelectKBest utilizamos una busqueda en grid para recorrer todos los K menores que el número de atributos, para así quedarnos con la selección que se ajusta mejor y no depender del hiperparámetro K."
   ]
  },
  {
   "cell_type": "code",
   "execution_count": 8,
   "metadata": {},
   "outputs": [
    {
     "name": "stdout",
     "output_type": "stream",
     "text": [
      "SelectKBest\n",
      "Atributos seleccionados:\n",
      "['Atributo3' 'Atributo4' 'Atributo14' 'Atributo24' 'Diagnosis']\n",
      "Puntuación en clasificacion:\n",
      "0.94298245614\n"
     ]
    }
   ],
   "source": [
    "print('SelectKBest')\n",
    "K = len(dataset.diccionarios) # Busca en grid de 1 hasta K\n",
    "pipeline = Pipeline([('kbest', SelectKBest(f_classif)), ('lr', LogisticRegression())])\n",
    "grid_search = GridSearchCV(pipeline, {'kbest__k': range(1,K), 'lr__C': np.logspace(-10, 10, 5)})\n",
    "grid_search.fit(X_train, Y_train)\n",
    "mk = clf.named_steps['feature_selection'].get_support()\n",
    "selected = np.append(mk, True)\n",
    "print(\"Atributos seleccionados:\")\n",
    "print(np.asarray(dataset.nombreAtributos)[selected])\n",
    "print(\"Puntuación en clasificacion:\")\n",
    "print(clf.score(X_test, Y_test))"
   ]
  },
  {
   "cell_type": "markdown",
   "metadata": {},
   "source": [
    "### Apartado 4\n",
    "Por último, en esta sección se mostrarán unas breves conclusiones."
   ]
  },
  {
   "cell_type": "markdown",
   "metadata": {},
   "source": [
    "En primer lugar destacar que el problema de selección de atributos mediante un algoritmo genético es un problema que se puede resolver de mejor manera sin mucha dificultad. Si nos fijamos, dados $k$ atributos, el espacio que queremos explorar tiene cardinalidad finita $2^k$ ($k$ bits que indican presencia o ausencia del atributo), por tanto, al ser un espacio relativamente pequeño (para $k=5$, hay 32 posibilidades, para $k=10$ hay 1024, el problema es el crecimiento exponencial), los algoritmos de scikit que exploran de manera codiciosa esto, resultan igual de satisfactorios y relativamente más eficientes para $k$ pequeño. "
   ]
  },
  {
   "cell_type": "markdown",
   "metadata": {},
   "source": [
    "Sobre los parámetros del algoritmo genético, las probabilidades de cruce o de mutación resultan muy importantes en el rendimiento del algoritmo genético. Los parámetros de tamaño de la población, máximo fitness y número de generaciones son los más importantes en relación al rendimiento, ya que el algoritmo es muy costoso computacionalmente y las condiciones de parada es relevante que se ajusten bien, dados los tiempos de ejecución que se dan. Para este problema, el número de generaciones y la población resultan innecesariamente altos, en general se ha observado que la población alcanza rápidamente un fitness en torno al 92-93% y se mantiene sin mejorar durante muchas generaciones."
   ]
  },
  {
   "cell_type": "markdown",
   "metadata": {},
   "source": [
    "Comparando ambas posibilidades (Scikit y nuestra implementación) y a la luz de los resultados, se preferirá el resultado de scikit que da un porcentaje mayor fitness y un subconjunto más pequeño de atributos. Nuestra implementación da un subconjunto mayor de atributos ya que ha eliminado los atributos suficientes como para que el fitness llegue al umbral pedido (o llegue al máximo número de generaciones).\n",
    "\n",
    "Para conjuntos de datos con más variables, quizás el algoritmo genético sea menos costoso que este algoritmo de scikit, sin embargo, para este ejemplo, no termina de ser el caso.\n"
   ]
  }
 ],
 "metadata": {
  "kernelspec": {
   "display_name": "Python 3",
   "language": "python",
   "name": "python3"
  },
  "language_info": {
   "codemirror_mode": {
    "name": "ipython",
    "version": 3
   },
   "file_extension": ".py",
   "mimetype": "text/x-python",
   "name": "python",
   "nbconvert_exporter": "python",
   "pygments_lexer": "ipython3",
   "version": "3.6.3"
  }
 },
 "nbformat": 4,
 "nbformat_minor": 2
}
