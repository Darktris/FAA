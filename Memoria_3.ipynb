{
 "cells": [
  {
   "cell_type": "markdown",
   "metadata": {},
   "source": [
    "# Fundamentos de Aprendizaje Automático"
   ]
  },
  {
   "cell_type": "markdown",
   "metadata": {},
   "source": [
    "\n",
    "## Práctica 3\n"
   ]
  },
  {
   "cell_type": "code",
   "execution_count": null,
   "metadata": {},
   "outputs": [],
   "source": [
    "# Imports globales\n",
    "%load_ext autoreload\n",
    "%autoreload 2\n",
    "%reload_ext autoreload\n",
    "\n",
    "import compileall\n",
    "import numpy as np\n",
    "import time\n",
    "import matplotlib.pyplot as plt\n",
    "\n",
    "compileall.compile_dir('.',force=True,quiet=True)\n",
    "\n",
    "from datos import Datos\n",
    "from clasificadores.clasificador_regresion_logistica import ClasificadorRegresionLogistica\n",
    "from preprocesamientoag.preprocesamiento_ag import PreprocesamientoAG\n",
    "from plotModel import plotModel\n",
    "\n",
    "%matplotlib inline"
   ]
  },
  {
   "cell_type": "markdown",
   "metadata": {},
   "source": [
    "### Apartado 1 \n",
    "#### Breve descripción de algunos detalles de la implementación\n"
   ]
  },
  {
   "cell_type": "markdown",
   "metadata": {},
   "source": [
    "##### Mecanismo de cruce implementado\n",
    "\n",
    "El mecanismo de cruce que hemos implementado es cruce uniforme, en el cual se elige un alelo de uno de los dos progenitores de manera aleatoria para cada alelo del sucesor. Dado que en nuestro caso la información de un individuo se representa en una cadena de bits, para generar un sucesor cruzando dos individuos simplemente rellenamos cada posición del array de bits con el bit de uno de los dos progenitores elegido alternativamente."
   ]
  },
  {
   "cell_type": "markdown",
   "metadata": {},
   "source": [
    "##### Mecanismo de mutacion\n",
    "\n",
    "El mecanismo de mutación implementado consiste en recorrer el array de bits del individuo y alterar cada uno de ellos con una cierta probabilidad. La manera de alterarlos consiste en negar cada bit."
   ]
  },
  {
   "cell_type": "markdown",
   "metadata": {
    "collapsed": true
   },
   "source": [
    "### Apartado 2 \n",
    "Resultados  de  la  selección  de  atributos  mediante  el algoritmo genético para los siguientes casos:"
   ]
  },
  {
   "cell_type": "code",
   "execution_count": null,
   "metadata": {},
   "outputs": [],
   "source": [
    "clasificador = ClasificadorRegresionLogistica()\n",
    "dataset=Datos('./conjunto_datos/wdbc.data')\n"
   ]
  },
  {
   "cell_type": "markdown",
   "metadata": {},
   "source": [
    "#### a) Tamaño de población = 50 ; Generaciones = 50 "
   ]
  },
  {
   "cell_type": "code",
   "execution_count": null,
   "metadata": {},
   "outputs": [],
   "source": [
    "ppag = PreprocesamientoAG(tamano_poblacion=50,max_generaciones=50)\n",
    "ppag.seleccionarAtributos(dataset, clasificador,quiet=True)\n",
    "\n",
    "\n",
    "selected = np.append(ppag.atributos_seleccionados.astype(bool),True)\n",
    "print(\"Atributos seleccionados:\")\n",
    "print(np.asarray(dataset.nombreAtributos)[selected])\n",
    "print(\"Puntuación en clasificacion:\")\n",
    "print(ppag.puntuacion)"
   ]
  },
  {
   "cell_type": "markdown",
   "metadata": {},
   "source": [
    "#### b) Tamaño de población = 50 ; Generaciones = 75 "
   ]
  },
  {
   "cell_type": "code",
   "execution_count": null,
   "metadata": {
    "collapsed": true
   },
   "outputs": [],
   "source": [
    "ppag = PreprocesamientoAG(tamano_poblacion=50,max_generaciones=75)\n",
    "ppag.seleccionarAtributos(dataset, clasificador,quiet=True)\n",
    "\n",
    "\n",
    "selected = np.append(ppag.atributos_seleccionados.astype(bool),True)\n",
    "print(\"Atributos seleccionados:\")\n",
    "print(np.asarray(dataset.nombreAtributos)[selected])\n",
    "print(\"Puntuación en clasificacion:\")\n",
    "print(ppag.puntuacion)"
   ]
  },
  {
   "cell_type": "markdown",
   "metadata": {},
   "source": [
    "#### c) Tamaño de población = 75 ; Generaciones = 50  "
   ]
  },
  {
   "cell_type": "code",
   "execution_count": null,
   "metadata": {
    "collapsed": true
   },
   "outputs": [],
   "source": [
    "ppag = PreprocesamientoAG(tamano_poblacion=75,max_generaciones=50)\n",
    "ppag.seleccionarAtributos(dataset, clasificador,quiet=True)\n",
    "\n",
    "\n",
    "selected = np.append(ppag.atributos_seleccionados.astype(bool),True)\n",
    "print(\"Atributos seleccionados:\")\n",
    "print(np.asarray(dataset.nombreAtributos)[selected])\n",
    "print(\"Puntuación en clasificacion:\")\n",
    "print(ppag.puntuacion)"
   ]
  },
  {
   "cell_type": "markdown",
   "metadata": {},
   "source": [
    "#### d) Tamaño de población = 75 ; Generaciones = 75 "
   ]
  },
  {
   "cell_type": "code",
   "execution_count": null,
   "metadata": {
    "collapsed": true
   },
   "outputs": [],
   "source": [
    "ppag = PreprocesamientoAG(tamano_poblacion=75,max_generaciones=75)\n",
    "ppag.seleccionarAtributos(dataset, clasificador,quiet=True)\n",
    "\n",
    "\n",
    "selected = np.append(ppag.atributos_seleccionados.astype(bool),True)\n",
    "print(\"Atributos seleccionados:\")\n",
    "print(np.asarray(dataset.nombreAtributos)[selected])\n",
    "print(\"Puntuación en clasificacion:\")\n",
    "print(ppag.puntuacion)"
   ]
  }
 ],
 "metadata": {
  "kernelspec": {
   "display_name": "Python 3",
   "language": "python",
   "name": "python3"
  },
  "language_info": {
   "codemirror_mode": {
    "name": "ipython",
    "version": 3
   },
   "file_extension": ".py",
   "mimetype": "text/x-python",
   "name": "python",
   "nbconvert_exporter": "python",
   "pygments_lexer": "ipython3",
   "version": "3.6.1"
  }
 },
 "nbformat": 4,
 "nbformat_minor": 2
}
